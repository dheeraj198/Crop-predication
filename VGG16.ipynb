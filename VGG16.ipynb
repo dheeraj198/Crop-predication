{
  "nbformat": 4,
  "nbformat_minor": 0,
  "metadata": {
    "colab": {
      "name": "VGG16.ipynb",
      "provenance": [],
      "include_colab_link": true
    },
    "kernelspec": {
      "display_name": "Python 3",
      "language": "python",
      "name": "python3"
    },
    "language_info": {
      "codemirror_mode": {
        "name": "ipython",
        "version": 3
      },
      "file_extension": ".py",
      "mimetype": "text/x-python",
      "name": "python",
      "nbconvert_exporter": "python",
      "pygments_lexer": "ipython3",
      "version": "3.7.4"
    }
  },
  "cells": [
    {
      "cell_type": "markdown",
      "metadata": {
        "id": "view-in-github",
        "colab_type": "text"
      },
      "source": [
        "<a href=\"https://colab.research.google.com/github/dheeraj198/Crop-predication/blob/main/VGG16.ipynb\" target=\"_parent\"><img src=\"https://colab.research.google.com/assets/colab-badge.svg\" alt=\"Open In Colab\"/></a>"
      ]
    },
    {
      "cell_type": "code",
      "metadata": {
        "id": "XnSyCltRERN6"
      },
      "source": [
        ""
      ],
      "execution_count": null,
      "outputs": []
    },
    {
      "cell_type": "code",
      "metadata": {
        "id": "tvzgi4XLERO0"
      },
      "source": [
        ""
      ],
      "execution_count": null,
      "outputs": []
    },
    {
      "cell_type": "code",
      "metadata": {
        "id": "u8xkO-4BKQPj"
      },
      "source": [
        "\n",
        "from tensorflow.compat.v1 import ConfigProto\n",
        "from tensorflow.compat.v1 import InteractiveSession\n",
        "\n",
        "config = ConfigProto()\n",
        "config.gpu_options.per_process_gpu_memory_fraction = 0.2\n",
        "config.gpu_options.allow_growth = True\n",
        "session = InteractiveSession(config=config)"
      ],
      "execution_count": 1,
      "outputs": []
    },
    {
      "cell_type": "code",
      "metadata": {
        "id": "No6cupotKSHX"
      },
      "source": [
        "import tensorflow as tf\n",
        "from tensorflow.keras.layers import Input, Lambda, Dense, Flatten\n",
        "from tensorflow.keras.models import Model\n",
        "tf.keras.applications.vgg16.preprocess_input\n",
        "from tensorflow.keras.preprocessing import image\n",
        "from tensorflow.keras.preprocessing.image import ImageDataGenerator,load_img\n",
        "from tensorflow.keras.models import Sequential\n",
        "import numpy as np\n",
        "from glob import glob\n",
        "\n",
        "#from tensorflow.keras.applications.resnet152V2 import ResNet152V2\n",
        "#from keras.applications.vgg16 import VGG16\n",
        "#import matplotlib.pyplot as plttf.__version__"
      ],
      "execution_count": 3,
      "outputs": []
    },
    {
      "cell_type": "code",
      "metadata": {
        "id": "BRfKwRDAKWpi"
      },
      "source": [
        "!pip install -U -q PyDrive\n",
        "from pydrive.auth import GoogleAuth\n",
        "from pydrive.drive import GoogleDrive\n",
        "from google.colab import auth\n",
        "from oauth2client.client import GoogleCredentials"
      ],
      "execution_count": 4,
      "outputs": []
    },
    {
      "cell_type": "code",
      "metadata": {
        "id": "YCARkLd6KXiu"
      },
      "source": [
        "auth.authenticate_user()\n",
        "gauth = GoogleAuth()\n",
        "gauth.credentials = GoogleCredentials.get_application_default()\n",
        "drive = GoogleDrive(gauth)"
      ],
      "execution_count": 6,
      "outputs": []
    },
    {
      "cell_type": "code",
      "metadata": {
        "id": "kqEK_oA8KZ0B"
      },
      "source": [
        "fid = drive.ListFile({'q':\"title='test_set.zip'\"}).GetList()[0]['id']\n",
        "f = drive.CreateFile({'id': fid})\n",
        "f.GetContentFile('test_set.zip')"
      ],
      "execution_count": 7,
      "outputs": []
    },
    {
      "cell_type": "code",
      "metadata": {
        "colab": {
          "base_uri": "https://localhost:8080/"
        },
        "id": "Ey9XI0RKKhGM",
        "outputId": "05ddc82b-bf6c-472d-ae02-7ed67b292cab"
      },
      "source": [
        "!unzip test_set.zip"
      ],
      "execution_count": 8,
      "outputs": [
        {
          "output_type": "stream",
          "text": [
            "Archive:  test_set.zip\n",
            "   creating: test_set/\n",
            "  inflating: test_set/a.jpg          \n",
            "  inflating: test_set/b.jpg          \n",
            "   creating: test_set/jute/\n",
            "  inflating: test_set/jute/jute001a.jpeg  \n",
            "  inflating: test_set/jute/jute002a.jpeg  \n",
            "  inflating: test_set/jute/jute003a.jpeg  \n",
            "  inflating: test_set/jute/jute004a.jpeg  \n",
            "  inflating: test_set/jute/jute005a.jpeg  \n",
            "  inflating: test_set/jute/jute006a.jpeg  \n",
            "  inflating: test_set/jute/jute007a.jpeg  \n",
            "  inflating: test_set/jute/jute008a.jpeg  \n",
            "  inflating: test_set/jute/jute009a.jpeg  \n",
            "  inflating: test_set/jute/jute010a.jpeg  \n",
            "  inflating: test_set/jute/jute011a.jpeg  \n",
            "  inflating: test_set/jute/jute012a.jpeg  \n",
            "  inflating: test_set/jute/jute013a.jpeg  \n",
            "  inflating: test_set/jute/jute014a.jpeg  \n",
            "  inflating: test_set/jute/jute015a.jpeg  \n",
            "  inflating: test_set/jute/jute016a.jpeg  \n",
            "  inflating: test_set/jute/jute017a.jpeg  \n",
            "  inflating: test_set/jute/jute018a.jpeg  \n",
            "  inflating: test_set/jute/jute019a.jpeg  \n",
            "  inflating: test_set/jute/jute020a.jpeg  \n",
            "  inflating: test_set/jute/jute021a.jpeg  \n",
            "  inflating: test_set/jute/jute022a.jpeg  \n",
            "  inflating: test_set/jute/jute023a.jpeg  \n",
            "  inflating: test_set/jute/jute024a.jpeg  \n",
            "  inflating: test_set/jute/jute025a.jpeg  \n",
            "  inflating: test_set/jute/jute026a.jpeg  \n",
            "  inflating: test_set/jute/jute027a.jpeg  \n",
            "  inflating: test_set/jute/jute028a.jpeg  \n",
            "  inflating: test_set/jute/jute029a.jpeg  \n",
            "  inflating: test_set/jute/jute030a.jpeg  \n",
            "  inflating: test_set/jute/jute031a.jpeg  \n",
            "  inflating: test_set/jute/jute032a.jpeg  \n",
            "  inflating: test_set/jute/jute033a.jpeg  \n",
            "  inflating: test_set/jute/jute034a.jpeg  \n",
            "  inflating: test_set/jute/jute035a.jpeg  \n",
            "  inflating: test_set/jute/jute036a.jpeg  \n",
            "  inflating: test_set/jute/jute037a.jpeg  \n",
            "  inflating: test_set/jute/jute038a.jpeg  \n",
            "  inflating: test_set/jute/jute039a.jpeg  \n",
            "  inflating: test_set/jute/jute040a.jpeg  \n",
            "   creating: test_set/maize/\n",
            "  inflating: test_set/maize/maize001a.jpeg  \n",
            "  inflating: test_set/maize/maize002a.jpeg  \n",
            "  inflating: test_set/maize/maize003a.jpeg  \n",
            "  inflating: test_set/maize/maize004a.jpeg  \n",
            "  inflating: test_set/maize/maize005a.jpeg  \n",
            "  inflating: test_set/maize/maize006.jpeg  \n",
            "  inflating: test_set/maize/maize007.jpeg  \n",
            "  inflating: test_set/maize/maize008a.jpeg  \n",
            "  inflating: test_set/maize/maize009a.jpeg  \n",
            "  inflating: test_set/maize/maize010a.jpeg  \n",
            "  inflating: test_set/maize/maize011a.jpeg  \n",
            "  inflating: test_set/maize/maize012a.jpeg  \n",
            "  inflating: test_set/maize/maize013a.jpeg  \n",
            "  inflating: test_set/maize/maize014.jpeg  \n",
            "  inflating: test_set/maize/maize015a.jpeg  \n",
            "  inflating: test_set/maize/maize016a.jpeg  \n",
            "  inflating: test_set/maize/maize017a.jpeg  \n",
            "  inflating: test_set/maize/maize018a.jpeg  \n",
            "  inflating: test_set/maize/maize019a.jpeg  \n",
            "  inflating: test_set/maize/maize020a.jpeg  \n",
            "  inflating: test_set/maize/maize021a.jpeg  \n",
            "  inflating: test_set/maize/maize022a.jpeg  \n",
            "  inflating: test_set/maize/maize023a.jpeg  \n",
            "  inflating: test_set/maize/maize024a.jpeg  \n",
            "  inflating: test_set/maize/maize025a.jpeg  \n",
            "  inflating: test_set/maize/maize026a.jpeg  \n",
            "  inflating: test_set/maize/maize027a.jpeg  \n",
            "  inflating: test_set/maize/maize028a.jpeg  \n",
            "  inflating: test_set/maize/maize029a.jpeg  \n",
            "  inflating: test_set/maize/maize030a.jpeg  \n",
            "  inflating: test_set/maize/maize031a.jpeg  \n",
            "  inflating: test_set/maize/maize032a.jpeg  \n",
            "  inflating: test_set/maize/maize033a.jpeg  \n",
            "  inflating: test_set/maize/maize034a.jpeg  \n",
            "  inflating: test_set/maize/maize035a.jpeg  \n",
            "  inflating: test_set/maize/maize036a.jpeg  \n",
            "  inflating: test_set/maize/maize037a.jpeg  \n",
            "  inflating: test_set/maize/maize038a.jpeg  \n",
            "  inflating: test_set/maize/maize039a.jpeg  \n",
            "  inflating: test_set/maize/maize040a.jpeg  \n",
            "   creating: test_set/rice/\n",
            "  inflating: test_set/rice/rice001a.jpeg  \n",
            "  inflating: test_set/rice/rice002a.jpeg  \n",
            "  inflating: test_set/rice/rice003a.jpeg  \n",
            "  inflating: test_set/rice/rice004a.jpeg  \n",
            "  inflating: test_set/rice/rice005a.jpeg  \n",
            "  inflating: test_set/rice/rice006a.jpeg  \n",
            "  inflating: test_set/rice/rice007a.jpeg  \n",
            "  inflating: test_set/rice/rice008a.jpeg  \n",
            "  inflating: test_set/rice/rice009a.jpeg  \n",
            "  inflating: test_set/rice/rice010a.jpeg  \n",
            "  inflating: test_set/rice/rice011a.jpeg  \n",
            "  inflating: test_set/rice/rice012a.jpeg  \n",
            "  inflating: test_set/rice/rice013a.jpeg  \n",
            "  inflating: test_set/rice/rice014a.jpeg  \n",
            "  inflating: test_set/rice/rice015a.jpeg  \n",
            "  inflating: test_set/rice/rice016a.jpeg  \n",
            "  inflating: test_set/rice/rice017a.jpeg  \n",
            "  inflating: test_set/rice/rice018a.jpeg  \n",
            "  inflating: test_set/rice/rice019a.jpeg  \n",
            "  inflating: test_set/rice/rice020a.jpeg  \n",
            "  inflating: test_set/rice/rice021a.jpeg  \n",
            "  inflating: test_set/rice/rice022a.jpeg  \n",
            "  inflating: test_set/rice/rice023a.jpeg  \n",
            "  inflating: test_set/rice/rice024a.jpeg  \n",
            "  inflating: test_set/rice/rice025a.jpeg  \n",
            "  inflating: test_set/rice/rice026a.jpeg  \n",
            "  inflating: test_set/rice/rice027a.jpeg  \n",
            "  inflating: test_set/rice/rice028a.jpeg  \n",
            "  inflating: test_set/rice/rice029a.jpeg  \n",
            "  inflating: test_set/rice/rice030a.jpeg  \n",
            "  inflating: test_set/rice/rice031a.jpeg  \n",
            "  inflating: test_set/rice/rice032a.jpeg  \n",
            "  inflating: test_set/rice/rice033a.jpeg  \n",
            "  inflating: test_set/rice/rice034a.jpeg  \n",
            "  inflating: test_set/rice/rice035a.jpeg  \n",
            "  inflating: test_set/rice/rice036a.jpeg  \n",
            "  inflating: test_set/rice/rice037a.jpeg  \n",
            "  inflating: test_set/rice/rice038a.jpeg  \n",
            "  inflating: test_set/rice/rice039a.jpeg  \n",
            "  inflating: test_set/rice/rice040a.jpeg  \n",
            "   creating: test_set/sugarcane/\n",
            "  inflating: test_set/sugarcane/sugarcane0001a.jpeg  \n",
            "  inflating: test_set/sugarcane/sugarcane0002a.jpeg  \n",
            "  inflating: test_set/sugarcane/sugarcane0003a.jpeg  \n",
            "  inflating: test_set/sugarcane/sugarcane0004a.jpeg  \n",
            "  inflating: test_set/sugarcane/sugarcane0010a.jpeg  \n",
            "  inflating: test_set/sugarcane/sugarcane0011a.jpeg  \n",
            "  inflating: test_set/sugarcane/sugarcane005a.jpeg  \n",
            "  inflating: test_set/sugarcane/sugarcane006a.jpeg  \n",
            "  inflating: test_set/sugarcane/sugarcane007a.jpeg  \n",
            "  inflating: test_set/sugarcane/sugarcane008a.jpeg  \n",
            "  inflating: test_set/sugarcane/sugarcane009a.jpeg  \n",
            "  inflating: test_set/sugarcane/sugarcane012a.jpeg  \n",
            "  inflating: test_set/sugarcane/sugarcane013a.jpeg  \n",
            "  inflating: test_set/sugarcane/sugarcane014a.jpeg  \n",
            "  inflating: test_set/sugarcane/sugarcane015a.jpeg  \n",
            "  inflating: test_set/sugarcane/sugarcane016a.jpeg  \n",
            "  inflating: test_set/sugarcane/sugarcane017a.jpeg  \n",
            "  inflating: test_set/sugarcane/sugarcane018a.jpeg  \n",
            "  inflating: test_set/sugarcane/sugarcane019a.jpeg  \n",
            "  inflating: test_set/sugarcane/sugarcane020a.jpeg  \n",
            "  inflating: test_set/sugarcane/sugarcane021a.jpeg  \n",
            "  inflating: test_set/sugarcane/sugarcane022a.jpeg  \n",
            "  inflating: test_set/sugarcane/sugarcane023a.jpeg  \n",
            "  inflating: test_set/sugarcane/sugarcane024a.jpeg  \n",
            "  inflating: test_set/sugarcane/sugarcane025a.jpeg  \n",
            "  inflating: test_set/sugarcane/sugarcane026a.jpeg  \n",
            "  inflating: test_set/sugarcane/sugarcane027a.jpeg  \n",
            "  inflating: test_set/sugarcane/sugarcane028a.jpeg  \n",
            "  inflating: test_set/sugarcane/sugarcane029a.jpeg  \n",
            "  inflating: test_set/sugarcane/sugarcane030a.jpeg  \n",
            "  inflating: test_set/sugarcane/sugarcane031a.jpeg  \n",
            "  inflating: test_set/sugarcane/sugarcane032a.jpeg  \n",
            "  inflating: test_set/sugarcane/sugarcane033a.jpeg  \n",
            "  inflating: test_set/sugarcane/sugarcane034a.jpeg  \n",
            "  inflating: test_set/sugarcane/sugarcane035a.jpeg  \n",
            "  inflating: test_set/sugarcane/sugarcane036a.jpeg  \n",
            "  inflating: test_set/sugarcane/sugarcane037a.jpeg  \n",
            "  inflating: test_set/sugarcane/sugarcane038a.jpeg  \n",
            "  inflating: test_set/sugarcane/sugarcane039a.jpeg  \n",
            "  inflating: test_set/sugarcane/sugarcane040a.jpeg  \n",
            "   creating: test_set/wheat/\n",
            "  inflating: test_set/wheat/wheat0001a.jpeg  \n",
            "  inflating: test_set/wheat/wheat0002a.jpeg  \n",
            "  inflating: test_set/wheat/wheat0004a.jpeg  \n",
            "  inflating: test_set/wheat/wheat003.jpeg  \n",
            "  inflating: test_set/wheat/wheat004a.jpeg  \n",
            "  inflating: test_set/wheat/wheat005a.jpeg  \n",
            "  inflating: test_set/wheat/wheat006a.jpeg  \n",
            "  inflating: test_set/wheat/wheat007a.jpeg  \n",
            "  inflating: test_set/wheat/wheat008a.jpeg  \n",
            "  inflating: test_set/wheat/wheat009a.jpeg  \n",
            "  inflating: test_set/wheat/wheat010a.jpeg  \n",
            "  inflating: test_set/wheat/wheat011.jpeg  \n",
            "  inflating: test_set/wheat/wheat012a.jpeg  \n",
            "  inflating: test_set/wheat/wheat013a.jpeg  \n",
            "  inflating: test_set/wheat/wheat014a.jpeg  \n",
            "  inflating: test_set/wheat/wheat015a.jpeg  \n",
            "  inflating: test_set/wheat/wheat016a.jpeg  \n",
            "  inflating: test_set/wheat/wheat017a.jpeg  \n",
            "  inflating: test_set/wheat/wheat018a.jpeg  \n",
            "  inflating: test_set/wheat/wheat019a.jpeg  \n",
            "  inflating: test_set/wheat/wheat020a.jpeg  \n",
            "  inflating: test_set/wheat/wheat021a.jpeg  \n",
            "  inflating: test_set/wheat/wheat022a.jpeg  \n",
            "  inflating: test_set/wheat/wheat023a.jpeg  \n",
            "  inflating: test_set/wheat/wheat024a.jpeg  \n",
            "  inflating: test_set/wheat/wheat025a.jpeg  \n",
            "  inflating: test_set/wheat/wheat026a.jpeg  \n",
            "  inflating: test_set/wheat/wheat027a.jpeg  \n",
            "  inflating: test_set/wheat/wheat028a.jpeg  \n",
            "  inflating: test_set/wheat/wheat029a.jpeg  \n",
            "  inflating: test_set/wheat/wheat030a.jpeg  \n",
            "  inflating: test_set/wheat/wheat031a.jpeg  \n",
            "  inflating: test_set/wheat/wheat032a.jpeg  \n",
            "  inflating: test_set/wheat/wheat033a.jpeg  \n",
            "  inflating: test_set/wheat/wheat034a.jpeg  \n",
            "  inflating: test_set/wheat/wheat035a.jpeg  \n",
            "  inflating: test_set/wheat/wheat036a.jpeg  \n",
            "  inflating: test_set/wheat/wheat037a.jpeg  \n",
            "  inflating: test_set/wheat/wheat038a.jpeg  \n",
            "  inflating: test_set/wheat/wheat039a.jpeg  \n",
            "  inflating: test_set/wheat/wheat040a.jpeg  \n"
          ],
          "name": "stdout"
        }
      ]
    },
    {
      "cell_type": "code",
      "metadata": {
        "id": "yu86c1muKm3M"
      },
      "source": [
        "fid = drive.ListFile({'q':\"title='train_set.zip'\"}).GetList()[0]['id']\n",
        "f = drive.CreateFile({'id': fid})\n",
        "f.GetContentFile('train_set.zip')"
      ],
      "execution_count": 9,
      "outputs": []
    },
    {
      "cell_type": "code",
      "metadata": {
        "colab": {
          "base_uri": "https://localhost:8080/"
        },
        "id": "qQ3p_ZmXKt0i",
        "outputId": "0a1b5775-0ab8-4b9d-c4dc-3fef7341d0db"
      },
      "source": [
        "!unzip train_set.zip"
      ],
      "execution_count": 10,
      "outputs": [
        {
          "output_type": "stream",
          "text": [
            "Archive:  train_set.zip\n",
            "   creating: train_set/\n",
            "   creating: train_set/jute/\n",
            "  inflating: train_set/jute/jute001a.jpeg  \n",
            "  inflating: train_set/jute/jute001ahf.jpeg  \n",
            "  inflating: train_set/jute/jute001ahs.jpeg  \n",
            "  inflating: train_set/jute/jute001arot.jpeg  \n",
            "  inflating: train_set/jute/jute002a.jpeg  \n",
            "  inflating: train_set/jute/jute002ahf.jpeg  \n",
            "  inflating: train_set/jute/jute002ahs.jpeg  \n",
            "  inflating: train_set/jute/jute002arot.jpeg  \n",
            "  inflating: train_set/jute/jute003a.jpeg  \n",
            "  inflating: train_set/jute/jute003ahf.jpeg  \n",
            "  inflating: train_set/jute/jute003ahs.jpeg  \n",
            "  inflating: train_set/jute/jute003arot.jpeg  \n",
            "  inflating: train_set/jute/jute004a.jpeg  \n",
            "  inflating: train_set/jute/jute004ahf.jpeg  \n",
            "  inflating: train_set/jute/jute004ahs.jpeg  \n",
            "  inflating: train_set/jute/jute004arot.jpeg  \n",
            "  inflating: train_set/jute/jute005a.jpeg  \n",
            "  inflating: train_set/jute/jute005ahf.jpeg  \n",
            "  inflating: train_set/jute/jute005ahs.jpeg  \n",
            "  inflating: train_set/jute/jute005arot.jpeg  \n",
            "  inflating: train_set/jute/jute006a.jpeg  \n",
            "  inflating: train_set/jute/jute006ahf.jpeg  \n",
            "  inflating: train_set/jute/jute006ahs.jpeg  \n",
            "  inflating: train_set/jute/jute006arot.jpeg  \n",
            "  inflating: train_set/jute/jute007a.jpeg  \n",
            "  inflating: train_set/jute/jute007ahf.jpeg  \n",
            "  inflating: train_set/jute/jute007ahs.jpeg  \n",
            "  inflating: train_set/jute/jute007arot.jpeg  \n",
            "  inflating: train_set/jute/jute008a.jpeg  \n",
            "  inflating: train_set/jute/jute008ahf.jpeg  \n",
            "  inflating: train_set/jute/jute008ahs.jpeg  \n",
            "  inflating: train_set/jute/jute008arot.jpeg  \n",
            "  inflating: train_set/jute/jute009a.jpeg  \n",
            "  inflating: train_set/jute/jute009ahf.jpeg  \n",
            "  inflating: train_set/jute/jute009ahs.jpeg  \n",
            "  inflating: train_set/jute/jute009arot.jpeg  \n",
            "  inflating: train_set/jute/jute010a.jpeg  \n",
            "  inflating: train_set/jute/jute010ahf.jpeg  \n",
            "  inflating: train_set/jute/jute010ahs.jpeg  \n",
            "  inflating: train_set/jute/jute010arot.jpeg  \n",
            "  inflating: train_set/jute/jute011a.jpeg  \n",
            "  inflating: train_set/jute/jute011ahf.jpeg  \n",
            "  inflating: train_set/jute/jute011ahs.jpeg  \n",
            "  inflating: train_set/jute/jute011arot.jpeg  \n",
            "  inflating: train_set/jute/jute012a.jpeg  \n",
            "  inflating: train_set/jute/jute012ahf.jpeg  \n",
            "  inflating: train_set/jute/jute012ahs.jpeg  \n",
            "  inflating: train_set/jute/jute012arot.jpeg  \n",
            "  inflating: train_set/jute/jute013a.jpeg  \n",
            "  inflating: train_set/jute/jute013ahf.jpeg  \n",
            "  inflating: train_set/jute/jute013ahs.jpeg  \n",
            "  inflating: train_set/jute/jute013arot.jpeg  \n",
            "  inflating: train_set/jute/jute014a.jpeg  \n",
            "  inflating: train_set/jute/jute014ahf.jpeg  \n",
            "  inflating: train_set/jute/jute014ahs.jpeg  \n",
            "  inflating: train_set/jute/jute014arot.jpeg  \n",
            "  inflating: train_set/jute/jute015a.jpeg  \n",
            "  inflating: train_set/jute/jute015ahf.jpeg  \n",
            "  inflating: train_set/jute/jute015ahs.jpeg  \n",
            "  inflating: train_set/jute/jute015arot.jpeg  \n",
            "  inflating: train_set/jute/jute016a.jpeg  \n",
            "  inflating: train_set/jute/jute016ahf.jpeg  \n",
            "  inflating: train_set/jute/jute016ahs.jpeg  \n",
            "  inflating: train_set/jute/jute016arot.jpeg  \n",
            "  inflating: train_set/jute/jute017a.jpeg  \n",
            "  inflating: train_set/jute/jute017ahf.jpeg  \n",
            "  inflating: train_set/jute/jute017ahs.jpeg  \n",
            "  inflating: train_set/jute/jute017arot.jpeg  \n",
            "  inflating: train_set/jute/jute018a.jpeg  \n",
            "  inflating: train_set/jute/jute018ahf.jpeg  \n",
            "  inflating: train_set/jute/jute018ahs.jpeg  \n",
            "  inflating: train_set/jute/jute018arot.jpeg  \n",
            "  inflating: train_set/jute/jute019a.jpeg  \n",
            "  inflating: train_set/jute/jute019ahf.jpeg  \n",
            "  inflating: train_set/jute/jute019ahs.jpeg  \n",
            "  inflating: train_set/jute/jute019arot.jpeg  \n",
            "  inflating: train_set/jute/jute020a.jpeg  \n",
            "  inflating: train_set/jute/jute020ahf.jpeg  \n",
            "  inflating: train_set/jute/jute020ahs.jpeg  \n",
            "  inflating: train_set/jute/jute020arot.jpeg  \n",
            "  inflating: train_set/jute/jute021a.jpeg  \n",
            "  inflating: train_set/jute/jute021ahf.jpeg  \n",
            "  inflating: train_set/jute/jute021ahs.jpeg  \n",
            "  inflating: train_set/jute/jute021arot.jpeg  \n",
            "  inflating: train_set/jute/jute022a.jpeg  \n",
            "  inflating: train_set/jute/jute022ahf.jpeg  \n",
            "  inflating: train_set/jute/jute022ahs.jpeg  \n",
            "  inflating: train_set/jute/jute022arot.jpeg  \n",
            "  inflating: train_set/jute/jute023a.jpeg  \n",
            "  inflating: train_set/jute/jute023ahf.jpeg  \n",
            "  inflating: train_set/jute/jute023ahs.jpeg  \n",
            "  inflating: train_set/jute/jute023arot.jpeg  \n",
            "  inflating: train_set/jute/jute024a.jpeg  \n",
            "  inflating: train_set/jute/jute024ahf.jpeg  \n",
            "  inflating: train_set/jute/jute024ahs.jpeg  \n",
            "  inflating: train_set/jute/jute024arot.jpeg  \n",
            "  inflating: train_set/jute/jute025a.jpeg  \n",
            "  inflating: train_set/jute/jute025ahf.jpeg  \n",
            "  inflating: train_set/jute/jute025ahs.jpeg  \n",
            "  inflating: train_set/jute/jute025arot.jpeg  \n",
            "  inflating: train_set/jute/jute026a.jpeg  \n",
            "  inflating: train_set/jute/jute026ahf.jpeg  \n",
            "  inflating: train_set/jute/jute026ahs.jpeg  \n",
            "  inflating: train_set/jute/jute026arot.jpeg  \n",
            "  inflating: train_set/jute/jute027a.jpeg  \n",
            "  inflating: train_set/jute/jute027ahf.jpeg  \n",
            "  inflating: train_set/jute/jute027ahs.jpeg  \n",
            "  inflating: train_set/jute/jute027arot.jpeg  \n",
            "  inflating: train_set/jute/jute028a.jpeg  \n",
            "  inflating: train_set/jute/jute028ahf.jpeg  \n",
            "  inflating: train_set/jute/jute028ahs.jpeg  \n",
            "  inflating: train_set/jute/jute028arot.jpeg  \n",
            "  inflating: train_set/jute/jute029a.jpeg  \n",
            "  inflating: train_set/jute/jute029ahf.jpeg  \n",
            "  inflating: train_set/jute/jute029ahs.jpeg  \n",
            "  inflating: train_set/jute/jute029arot.jpeg  \n",
            "  inflating: train_set/jute/jute030a.jpeg  \n",
            "  inflating: train_set/jute/jute030ahf.jpeg  \n",
            "  inflating: train_set/jute/jute030ahs.jpeg  \n",
            "  inflating: train_set/jute/jute030arot.jpeg  \n",
            "  inflating: train_set/jute/jute031a.jpeg  \n",
            "  inflating: train_set/jute/jute031ahf.jpeg  \n",
            "  inflating: train_set/jute/jute031ahs.jpeg  \n",
            "  inflating: train_set/jute/jute031arot.jpeg  \n",
            "  inflating: train_set/jute/jute032a.jpeg  \n",
            "  inflating: train_set/jute/jute032ahf.jpeg  \n",
            "  inflating: train_set/jute/jute032ahs.jpeg  \n",
            "  inflating: train_set/jute/jute032arot.jpeg  \n",
            "  inflating: train_set/jute/jute033a.jpeg  \n",
            "  inflating: train_set/jute/jute033ahf.jpeg  \n",
            "  inflating: train_set/jute/jute033ahs.jpeg  \n",
            "  inflating: train_set/jute/jute033arot.jpeg  \n",
            "  inflating: train_set/jute/jute034a.jpeg  \n",
            "  inflating: train_set/jute/jute034ahf.jpeg  \n",
            "  inflating: train_set/jute/jute034ahs.jpeg  \n",
            "  inflating: train_set/jute/jute034arot.jpeg  \n",
            "  inflating: train_set/jute/jute035a.jpeg  \n",
            "  inflating: train_set/jute/jute035ahf.jpeg  \n",
            "  inflating: train_set/jute/jute035ahs.jpeg  \n",
            "  inflating: train_set/jute/jute035arot.jpeg  \n",
            "  inflating: train_set/jute/jute036a.jpeg  \n",
            "  inflating: train_set/jute/jute036ahf.jpeg  \n",
            "  inflating: train_set/jute/jute036ahs.jpeg  \n",
            "  inflating: train_set/jute/jute036arot.jpeg  \n",
            "  inflating: train_set/jute/jute037a.jpeg  \n",
            "  inflating: train_set/jute/jute037ahf.jpeg  \n",
            "  inflating: train_set/jute/jute037ahs.jpeg  \n",
            "  inflating: train_set/jute/jute037arot.jpeg  \n",
            "  inflating: train_set/jute/jute038a.jpeg  \n",
            "  inflating: train_set/jute/jute038ahf.jpeg  \n",
            "  inflating: train_set/jute/jute038ahs.jpeg  \n",
            "  inflating: train_set/jute/jute038arot.jpeg  \n",
            "  inflating: train_set/jute/jute039a.jpeg  \n",
            "  inflating: train_set/jute/jute039ahf.jpeg  \n",
            "  inflating: train_set/jute/jute039ahs.jpeg  \n",
            "  inflating: train_set/jute/jute039arot.jpeg  \n",
            "  inflating: train_set/jute/jute040a.jpeg  \n",
            "  inflating: train_set/jute/jute040ahf.jpeg  \n",
            "  inflating: train_set/jute/jute040ahs.jpeg  \n",
            "  inflating: train_set/jute/jute040arot.jpeg  \n",
            "   creating: train_set/maize/\n",
            "  inflating: train_set/maize/maize001a.jpeg  \n",
            "  inflating: train_set/maize/maize001ahf.jpeg  \n",
            "  inflating: train_set/maize/maize001ahs.jpeg  \n",
            "  inflating: train_set/maize/maize001arot.jpeg  \n",
            "  inflating: train_set/maize/maize002a.jpeg  \n",
            "  inflating: train_set/maize/maize002ahf.jpeg  \n",
            "  inflating: train_set/maize/maize002ahs.jpeg  \n",
            "  inflating: train_set/maize/maize002arot.jpeg  \n",
            "  inflating: train_set/maize/maize003a.jpeg  \n",
            "  inflating: train_set/maize/maize003ahf.jpeg  \n",
            "  inflating: train_set/maize/maize003ahs.jpeg  \n",
            "  inflating: train_set/maize/maize003arot.jpeg  \n",
            "  inflating: train_set/maize/maize004a.jpeg  \n",
            "  inflating: train_set/maize/maize004ahf.jpeg  \n",
            "  inflating: train_set/maize/maize004ahs.jpeg  \n",
            "  inflating: train_set/maize/maize004arot.jpeg  \n",
            "  inflating: train_set/maize/maize005a.jpeg  \n",
            "  inflating: train_set/maize/maize005ahf.jpeg  \n",
            "  inflating: train_set/maize/maize005ahs.jpeg  \n",
            "  inflating: train_set/maize/maize005arot.jpeg  \n",
            "  inflating: train_set/maize/maize006.jpeg  \n",
            "  inflating: train_set/maize/maize006hf.jpeg  \n",
            "  inflating: train_set/maize/maize006hs.jpeg  \n",
            "  inflating: train_set/maize/maize006rot.jpeg  \n",
            "  inflating: train_set/maize/maize007.jpeg  \n",
            "  inflating: train_set/maize/maize007hf.jpeg  \n",
            "  inflating: train_set/maize/maize007hs.jpeg  \n",
            "  inflating: train_set/maize/maize007rot.jpeg  \n",
            "  inflating: train_set/maize/maize008a.jpeg  \n",
            "  inflating: train_set/maize/maize008ahf.jpeg  \n",
            "  inflating: train_set/maize/maize008ahs.jpeg  \n",
            "  inflating: train_set/maize/maize008arot.jpeg  \n",
            "  inflating: train_set/maize/maize009a.jpeg  \n",
            "  inflating: train_set/maize/maize009ahf.jpeg  \n",
            "  inflating: train_set/maize/maize009ahs.jpeg  \n",
            "  inflating: train_set/maize/maize009arot.jpeg  \n",
            "  inflating: train_set/maize/maize010a.jpeg  \n",
            "  inflating: train_set/maize/maize010ahf.jpeg  \n",
            "  inflating: train_set/maize/maize010ahs.jpeg  \n",
            "  inflating: train_set/maize/maize010arot.jpeg  \n",
            "  inflating: train_set/maize/maize011a.jpeg  \n",
            "  inflating: train_set/maize/maize011ahf.jpeg  \n",
            "  inflating: train_set/maize/maize011ahs.jpeg  \n",
            "  inflating: train_set/maize/maize011arot.jpeg  \n",
            "  inflating: train_set/maize/maize012a.jpeg  \n",
            "  inflating: train_set/maize/maize012ahf.jpeg  \n",
            "  inflating: train_set/maize/maize012ahs.jpeg  \n",
            "  inflating: train_set/maize/maize012arot.jpeg  \n",
            "  inflating: train_set/maize/maize013a.jpeg  \n",
            "  inflating: train_set/maize/maize013ahf.jpeg  \n",
            "  inflating: train_set/maize/maize013ahs.jpeg  \n",
            "  inflating: train_set/maize/maize013arot.jpeg  \n",
            "  inflating: train_set/maize/maize014.jpeg  \n",
            "  inflating: train_set/maize/maize014hf.jpeg  \n",
            "  inflating: train_set/maize/maize014hs.jpeg  \n",
            "  inflating: train_set/maize/maize014rot.jpeg  \n",
            "  inflating: train_set/maize/maize015a.jpeg  \n",
            "  inflating: train_set/maize/maize015ahf.jpeg  \n",
            "  inflating: train_set/maize/maize015ahs.jpeg  \n",
            "  inflating: train_set/maize/maize015arot.jpeg  \n",
            "  inflating: train_set/maize/maize016a.jpeg  \n",
            "  inflating: train_set/maize/maize016ahf.jpeg  \n",
            "  inflating: train_set/maize/maize016ahs.jpeg  \n",
            "  inflating: train_set/maize/maize016arot.jpeg  \n",
            "  inflating: train_set/maize/maize017a.jpeg  \n",
            "  inflating: train_set/maize/maize017ahf.jpeg  \n",
            "  inflating: train_set/maize/maize017ahs.jpeg  \n",
            "  inflating: train_set/maize/maize017arot.jpeg  \n",
            "  inflating: train_set/maize/maize018a.jpeg  \n",
            "  inflating: train_set/maize/maize018ahf.jpeg  \n",
            "  inflating: train_set/maize/maize018ahs.jpeg  \n",
            "  inflating: train_set/maize/maize018arot.jpeg  \n",
            "  inflating: train_set/maize/maize019a.jpeg  \n",
            "  inflating: train_set/maize/maize019ahf.jpeg  \n",
            "  inflating: train_set/maize/maize019ahs.jpeg  \n",
            "  inflating: train_set/maize/maize019arot.jpeg  \n",
            "  inflating: train_set/maize/maize020a.jpeg  \n",
            "  inflating: train_set/maize/maize020ahf.jpeg  \n",
            "  inflating: train_set/maize/maize020ahs.jpeg  \n",
            "  inflating: train_set/maize/maize020arot.jpeg  \n",
            "  inflating: train_set/maize/maize021a.jpeg  \n",
            "  inflating: train_set/maize/maize021ahf.jpeg  \n",
            "  inflating: train_set/maize/maize021ahs.jpeg  \n",
            "  inflating: train_set/maize/maize021arot.jpeg  \n",
            "  inflating: train_set/maize/maize022a.jpeg  \n",
            "  inflating: train_set/maize/maize022ahf.jpeg  \n",
            "  inflating: train_set/maize/maize022ahs.jpeg  \n",
            "  inflating: train_set/maize/maize022arot.jpeg  \n",
            "  inflating: train_set/maize/maize023a.jpeg  \n",
            "  inflating: train_set/maize/maize023ahf.jpeg  \n",
            "  inflating: train_set/maize/maize023ahs.jpeg  \n",
            "  inflating: train_set/maize/maize023arot.jpeg  \n",
            "  inflating: train_set/maize/maize024a.jpeg  \n",
            "  inflating: train_set/maize/maize024ahf.jpeg  \n",
            "  inflating: train_set/maize/maize024ahs.jpeg  \n",
            "  inflating: train_set/maize/maize024arot.jpeg  \n",
            "  inflating: train_set/maize/maize025a.jpeg  \n",
            "  inflating: train_set/maize/maize025ahf.jpeg  \n",
            "  inflating: train_set/maize/maize025ahs.jpeg  \n",
            "  inflating: train_set/maize/maize025arot.jpeg  \n",
            "  inflating: train_set/maize/maize026a.jpeg  \n",
            "  inflating: train_set/maize/maize026ahf.jpeg  \n",
            "  inflating: train_set/maize/maize026ahs.jpeg  \n",
            "  inflating: train_set/maize/maize026arot.jpeg  \n",
            "  inflating: train_set/maize/maize027a.jpeg  \n",
            "  inflating: train_set/maize/maize027ahf.jpeg  \n",
            "  inflating: train_set/maize/maize027ahs.jpeg  \n",
            "  inflating: train_set/maize/maize027arot.jpeg  \n",
            "  inflating: train_set/maize/maize028a.jpeg  \n",
            "  inflating: train_set/maize/maize028ahf.jpeg  \n",
            "  inflating: train_set/maize/maize028ahs.jpeg  \n",
            "  inflating: train_set/maize/maize028arot.jpeg  \n",
            "  inflating: train_set/maize/maize029a.jpeg  \n",
            "  inflating: train_set/maize/maize029ahf.jpeg  \n",
            "  inflating: train_set/maize/maize029ahs.jpeg  \n",
            "  inflating: train_set/maize/maize029arot.jpeg  \n",
            "  inflating: train_set/maize/maize030a.jpeg  \n",
            "  inflating: train_set/maize/maize030ahf.jpeg  \n",
            "  inflating: train_set/maize/maize030ahs.jpeg  \n",
            "  inflating: train_set/maize/maize030arot.jpeg  \n",
            "  inflating: train_set/maize/maize031a.jpeg  \n",
            "  inflating: train_set/maize/maize031ahf.jpeg  \n",
            "  inflating: train_set/maize/maize031ahs.jpeg  \n",
            "  inflating: train_set/maize/maize031arot.jpeg  \n",
            "  inflating: train_set/maize/maize032a.jpeg  \n",
            "  inflating: train_set/maize/maize032ahf.jpeg  \n",
            "  inflating: train_set/maize/maize032ahs.jpeg  \n",
            "  inflating: train_set/maize/maize032arot.jpeg  \n",
            "  inflating: train_set/maize/maize033a.jpeg  \n",
            "  inflating: train_set/maize/maize033ahf.jpeg  \n",
            "  inflating: train_set/maize/maize033ahs.jpeg  \n",
            "  inflating: train_set/maize/maize033arot.jpeg  \n",
            "  inflating: train_set/maize/maize034a.jpeg  \n",
            "  inflating: train_set/maize/maize034ahf.jpeg  \n",
            "  inflating: train_set/maize/maize034ahs.jpeg  \n",
            "  inflating: train_set/maize/maize034arot.jpeg  \n",
            "  inflating: train_set/maize/maize035a.jpeg  \n",
            "  inflating: train_set/maize/maize035ahf.jpeg  \n",
            "  inflating: train_set/maize/maize035ahs.jpeg  \n",
            "  inflating: train_set/maize/maize035arot.jpeg  \n",
            "  inflating: train_set/maize/maize036a.jpeg  \n",
            "  inflating: train_set/maize/maize036ahf.jpeg  \n",
            "  inflating: train_set/maize/maize036ahs.jpeg  \n",
            "  inflating: train_set/maize/maize036arot.jpeg  \n",
            "  inflating: train_set/maize/maize037a.jpeg  \n",
            "  inflating: train_set/maize/maize037ahf.jpeg  \n",
            "  inflating: train_set/maize/maize037ahs.jpeg  \n",
            "  inflating: train_set/maize/maize037arot.jpeg  \n",
            "  inflating: train_set/maize/maize038a.jpeg  \n",
            "  inflating: train_set/maize/maize038ahf.jpeg  \n",
            "  inflating: train_set/maize/maize038ahs.jpeg  \n",
            "  inflating: train_set/maize/maize038arot.jpeg  \n",
            "  inflating: train_set/maize/maize039a.jpeg  \n",
            "  inflating: train_set/maize/maize039ahf.jpeg  \n",
            "  inflating: train_set/maize/maize039ahs.jpeg  \n",
            "  inflating: train_set/maize/maize039arot.jpeg  \n",
            "  inflating: train_set/maize/maize040a.jpeg  \n",
            "  inflating: train_set/maize/maize040ahf.jpeg  \n",
            "  inflating: train_set/maize/maize040ahs.jpeg  \n",
            "  inflating: train_set/maize/maize040arot.jpeg  \n",
            "   creating: train_set/rice/\n",
            "  inflating: train_set/rice/rice001a.jpeg  \n",
            "  inflating: train_set/rice/rice001ahf.jpeg  \n",
            "  inflating: train_set/rice/rice001ahs.jpeg  \n",
            "  inflating: train_set/rice/rice001arot.jpeg  \n",
            "  inflating: train_set/rice/rice002a.jpeg  \n",
            "  inflating: train_set/rice/rice002ahf.jpeg  \n",
            "  inflating: train_set/rice/rice002ahs.jpeg  \n",
            "  inflating: train_set/rice/rice002arot.jpeg  \n",
            "  inflating: train_set/rice/rice003a.jpeg  \n",
            "  inflating: train_set/rice/rice003ahf.jpeg  \n",
            "  inflating: train_set/rice/rice003ahs.jpeg  \n",
            "  inflating: train_set/rice/rice003arot.jpeg  \n",
            "  inflating: train_set/rice/rice004a.jpeg  \n",
            "  inflating: train_set/rice/rice004ahf.jpeg  \n",
            "  inflating: train_set/rice/rice004ahs.jpeg  \n",
            "  inflating: train_set/rice/rice004arot.jpeg  \n",
            "  inflating: train_set/rice/rice005a.jpeg  \n",
            "  inflating: train_set/rice/rice005ahf.jpeg  \n",
            "  inflating: train_set/rice/rice005ahs.jpeg  \n",
            "  inflating: train_set/rice/rice005arot.jpeg  \n",
            "  inflating: train_set/rice/rice006a.jpeg  \n",
            "  inflating: train_set/rice/rice006ahf.jpeg  \n",
            "  inflating: train_set/rice/rice006ahs.jpeg  \n",
            "  inflating: train_set/rice/rice006arot.jpeg  \n",
            "  inflating: train_set/rice/rice007a.jpeg  \n",
            "  inflating: train_set/rice/rice007ahf.jpeg  \n",
            "  inflating: train_set/rice/rice007ahs.jpeg  \n",
            "  inflating: train_set/rice/rice007arot.jpeg  \n",
            "  inflating: train_set/rice/rice008a.jpeg  \n",
            "  inflating: train_set/rice/rice008ahf.jpeg  \n",
            "  inflating: train_set/rice/rice008ahs.jpeg  \n",
            "  inflating: train_set/rice/rice008arot.jpeg  \n",
            "  inflating: train_set/rice/rice009a.jpeg  \n",
            "  inflating: train_set/rice/rice009ahf.jpeg  \n",
            "  inflating: train_set/rice/rice009ahs.jpeg  \n",
            "  inflating: train_set/rice/rice009arot.jpeg  \n",
            "  inflating: train_set/rice/rice010a.jpeg  \n",
            "  inflating: train_set/rice/rice010ahf.jpeg  \n",
            "  inflating: train_set/rice/rice010ahs.jpeg  \n",
            "  inflating: train_set/rice/rice010arot.jpeg  \n",
            "  inflating: train_set/rice/rice011a.jpeg  \n",
            "  inflating: train_set/rice/rice011ahf.jpeg  \n",
            "  inflating: train_set/rice/rice011ahs.jpeg  \n",
            "  inflating: train_set/rice/rice011arot.jpeg  \n",
            "  inflating: train_set/rice/rice012a.jpeg  \n",
            "  inflating: train_set/rice/rice012ahf.jpeg  \n",
            "  inflating: train_set/rice/rice012ahs.jpeg  \n",
            "  inflating: train_set/rice/rice012arot.jpeg  \n",
            "  inflating: train_set/rice/rice013a.jpeg  \n",
            "  inflating: train_set/rice/rice013ahf.jpeg  \n",
            "  inflating: train_set/rice/rice013ahs.jpeg  \n",
            "  inflating: train_set/rice/rice013arot.jpeg  \n",
            "  inflating: train_set/rice/rice014a.jpeg  \n",
            "  inflating: train_set/rice/rice014ahf.jpeg  \n",
            "  inflating: train_set/rice/rice014ahs.jpeg  \n",
            "  inflating: train_set/rice/rice014arot.jpeg  \n",
            "  inflating: train_set/rice/rice015a.jpeg  \n",
            "  inflating: train_set/rice/rice015ahf.jpeg  \n",
            "  inflating: train_set/rice/rice015ahs.jpeg  \n",
            "  inflating: train_set/rice/rice015arot.jpeg  \n",
            "  inflating: train_set/rice/rice016a.jpeg  \n",
            "  inflating: train_set/rice/rice016ahf.jpeg  \n",
            "  inflating: train_set/rice/rice016ahs.jpeg  \n",
            "  inflating: train_set/rice/rice016arot.jpeg  \n",
            "  inflating: train_set/rice/rice017a.jpeg  \n",
            "  inflating: train_set/rice/rice017ahf.jpeg  \n",
            "  inflating: train_set/rice/rice017ahs.jpeg  \n",
            "  inflating: train_set/rice/rice017arot.jpeg  \n",
            "  inflating: train_set/rice/rice018a.jpeg  \n",
            "  inflating: train_set/rice/rice018ahf.jpeg  \n",
            "  inflating: train_set/rice/rice018ahs.jpeg  \n",
            "  inflating: train_set/rice/rice018arot.jpeg  \n",
            "  inflating: train_set/rice/rice019a.jpeg  \n",
            "  inflating: train_set/rice/rice019ahf.jpeg  \n",
            "  inflating: train_set/rice/rice019ahs.jpeg  \n",
            "  inflating: train_set/rice/rice019arot.jpeg  \n",
            "  inflating: train_set/rice/rice020a.jpeg  \n",
            "  inflating: train_set/rice/rice020ahf.jpeg  \n",
            "  inflating: train_set/rice/rice020ahs.jpeg  \n",
            "  inflating: train_set/rice/rice020arot.jpeg  \n",
            "  inflating: train_set/rice/rice021a.jpeg  \n",
            "  inflating: train_set/rice/rice021ahf.jpeg  \n",
            "  inflating: train_set/rice/rice021ahs.jpeg  \n",
            "  inflating: train_set/rice/rice021arot.jpeg  \n",
            "  inflating: train_set/rice/rice022a.jpeg  \n",
            "  inflating: train_set/rice/rice022ahf.jpeg  \n",
            "  inflating: train_set/rice/rice022ahs.jpeg  \n",
            "  inflating: train_set/rice/rice022arot.jpeg  \n",
            "  inflating: train_set/rice/rice023a.jpeg  \n",
            "  inflating: train_set/rice/rice023ahf.jpeg  \n",
            "  inflating: train_set/rice/rice023ahs.jpeg  \n",
            "  inflating: train_set/rice/rice023arot.jpeg  \n",
            "  inflating: train_set/rice/rice024a.jpeg  \n",
            "  inflating: train_set/rice/rice024ahf.jpeg  \n",
            "  inflating: train_set/rice/rice024ahs.jpeg  \n",
            "  inflating: train_set/rice/rice024arot.jpeg  \n",
            "  inflating: train_set/rice/rice025a.jpeg  \n",
            "  inflating: train_set/rice/rice025ahf.jpeg  \n",
            "  inflating: train_set/rice/rice025ahs.jpeg  \n",
            "  inflating: train_set/rice/rice025arot.jpeg  \n",
            "  inflating: train_set/rice/rice026a.jpeg  \n",
            "  inflating: train_set/rice/rice026ahf.jpeg  \n",
            "  inflating: train_set/rice/rice026ahs.jpeg  \n",
            "  inflating: train_set/rice/rice026arot.jpeg  \n",
            "  inflating: train_set/rice/rice027a.jpeg  \n",
            "  inflating: train_set/rice/rice027ahf.jpeg  \n",
            "  inflating: train_set/rice/rice027ahs.jpeg  \n",
            "  inflating: train_set/rice/rice027arot.jpeg  \n",
            "  inflating: train_set/rice/rice028a.jpeg  \n",
            "  inflating: train_set/rice/rice028ahf.jpeg  \n",
            "  inflating: train_set/rice/rice028ahs.jpeg  \n",
            "  inflating: train_set/rice/rice028arot.jpeg  \n",
            "  inflating: train_set/rice/rice029a.jpeg  \n",
            "  inflating: train_set/rice/rice029ahf.jpeg  \n",
            "  inflating: train_set/rice/rice029ahs.jpeg  \n",
            "  inflating: train_set/rice/rice029arot.jpeg  \n",
            "  inflating: train_set/rice/rice030a.jpeg  \n",
            "  inflating: train_set/rice/rice030ahf.jpeg  \n",
            "  inflating: train_set/rice/rice030ahs.jpeg  \n",
            "  inflating: train_set/rice/rice030arot.jpeg  \n",
            "  inflating: train_set/rice/rice031a.jpeg  \n",
            "  inflating: train_set/rice/rice031ahf.jpeg  \n",
            "  inflating: train_set/rice/rice031ahs.jpeg  \n",
            "  inflating: train_set/rice/rice031arot.jpeg  \n",
            "  inflating: train_set/rice/rice032a.jpeg  \n",
            "  inflating: train_set/rice/rice032ahf.jpeg  \n",
            "  inflating: train_set/rice/rice032ahs.jpeg  \n",
            "  inflating: train_set/rice/rice032arot.jpeg  \n",
            "  inflating: train_set/rice/rice033a.jpeg  \n",
            "  inflating: train_set/rice/rice033ahf.jpeg  \n",
            "  inflating: train_set/rice/rice033ahs.jpeg  \n",
            "  inflating: train_set/rice/rice033arot.jpeg  \n",
            "  inflating: train_set/rice/rice034a.jpeg  \n",
            "  inflating: train_set/rice/rice034ahf.jpeg  \n",
            "  inflating: train_set/rice/rice034ahs.jpeg  \n",
            "  inflating: train_set/rice/rice034arot.jpeg  \n",
            "  inflating: train_set/rice/rice035a.jpeg  \n",
            "  inflating: train_set/rice/rice035ahf.jpeg  \n",
            "  inflating: train_set/rice/rice035ahs.jpeg  \n",
            "  inflating: train_set/rice/rice035arot.jpeg  \n",
            "  inflating: train_set/rice/rice036a.jpeg  \n",
            "  inflating: train_set/rice/rice036ahf.jpeg  \n",
            "  inflating: train_set/rice/rice036ahs.jpeg  \n",
            "  inflating: train_set/rice/rice036arot.jpeg  \n",
            "  inflating: train_set/rice/rice037a.jpeg  \n",
            "  inflating: train_set/rice/rice037ahf.jpeg  \n",
            "  inflating: train_set/rice/rice037ahs.jpeg  \n",
            "  inflating: train_set/rice/rice037arot.jpeg  \n",
            "  inflating: train_set/rice/rice038a.jpeg  \n",
            "  inflating: train_set/rice/rice038ahf.jpeg  \n",
            "  inflating: train_set/rice/rice038ahs.jpeg  \n",
            "  inflating: train_set/rice/rice038arot.jpeg  \n",
            "  inflating: train_set/rice/rice039a.jpeg  \n",
            "  inflating: train_set/rice/rice039ahf.jpeg  \n",
            "  inflating: train_set/rice/rice039ahs.jpeg  \n",
            "  inflating: train_set/rice/rice039arot.jpeg  \n",
            "  inflating: train_set/rice/rice040a.jpeg  \n",
            "  inflating: train_set/rice/rice040ahf.jpeg  \n",
            "  inflating: train_set/rice/rice040ahs.jpeg  \n",
            "  inflating: train_set/rice/rice040arot.jpeg  \n",
            "   creating: train_set/sugarcane/\n",
            "  inflating: train_set/sugarcane/sugarcane0001a.jpeg  \n",
            "  inflating: train_set/sugarcane/sugarcane0001ahf.jpeg  \n",
            "  inflating: train_set/sugarcane/sugarcane0001ahs.jpeg  \n",
            "  inflating: train_set/sugarcane/sugarcane0001arot.jpeg  \n",
            "  inflating: train_set/sugarcane/sugarcane0002a.jpeg  \n",
            "  inflating: train_set/sugarcane/sugarcane0002ahf.jpeg  \n",
            "  inflating: train_set/sugarcane/sugarcane0002ahs.jpeg  \n",
            "  inflating: train_set/sugarcane/sugarcane0002arot.jpeg  \n",
            "  inflating: train_set/sugarcane/sugarcane0003a.jpeg  \n",
            "  inflating: train_set/sugarcane/sugarcane0003ahf.jpeg  \n",
            "  inflating: train_set/sugarcane/sugarcane0003ahs.jpeg  \n",
            "  inflating: train_set/sugarcane/sugarcane0003arot.jpeg  \n",
            "  inflating: train_set/sugarcane/sugarcane0004a.jpeg  \n",
            "  inflating: train_set/sugarcane/sugarcane0004ahf.jpeg  \n",
            "  inflating: train_set/sugarcane/sugarcane0004ahs.jpeg  \n",
            "  inflating: train_set/sugarcane/sugarcane0004arot.jpeg  \n",
            "  inflating: train_set/sugarcane/sugarcane0010a.jpeg  \n",
            "  inflating: train_set/sugarcane/sugarcane0010ahf.jpeg  \n",
            "  inflating: train_set/sugarcane/sugarcane0010ahs.jpeg  \n",
            "  inflating: train_set/sugarcane/sugarcane0010arot.jpeg  \n",
            "  inflating: train_set/sugarcane/sugarcane0011a.jpeg  \n",
            "  inflating: train_set/sugarcane/sugarcane0011ahf.jpeg  \n",
            "  inflating: train_set/sugarcane/sugarcane0011ahs.jpeg  \n",
            "  inflating: train_set/sugarcane/sugarcane0011arot.jpeg  \n",
            "  inflating: train_set/sugarcane/sugarcane005a.jpeg  \n",
            "  inflating: train_set/sugarcane/sugarcane005ahf.jpeg  \n",
            "  inflating: train_set/sugarcane/sugarcane005ahs.jpeg  \n",
            "  inflating: train_set/sugarcane/sugarcane005arot.jpeg  \n",
            "  inflating: train_set/sugarcane/sugarcane006a.jpeg  \n",
            "  inflating: train_set/sugarcane/sugarcane006ahf.jpeg  \n",
            "  inflating: train_set/sugarcane/sugarcane006ahs.jpeg  \n",
            "  inflating: train_set/sugarcane/sugarcane006arot.jpeg  \n",
            "  inflating: train_set/sugarcane/sugarcane007a.jpeg  \n",
            "  inflating: train_set/sugarcane/sugarcane007ahf.jpeg  \n",
            "  inflating: train_set/sugarcane/sugarcane007ahs.jpeg  \n",
            "  inflating: train_set/sugarcane/sugarcane007arot.jpeg  \n",
            "  inflating: train_set/sugarcane/sugarcane008a.jpeg  \n",
            "  inflating: train_set/sugarcane/sugarcane008ahf.jpeg  \n",
            "  inflating: train_set/sugarcane/sugarcane008ahs.jpeg  \n",
            "  inflating: train_set/sugarcane/sugarcane008arot.jpeg  \n",
            "  inflating: train_set/sugarcane/sugarcane009a.jpeg  \n",
            "  inflating: train_set/sugarcane/sugarcane009ahf.jpeg  \n",
            "  inflating: train_set/sugarcane/sugarcane009ahs.jpeg  \n",
            "  inflating: train_set/sugarcane/sugarcane009arot.jpeg  \n",
            "  inflating: train_set/sugarcane/sugarcane012a.jpeg  \n",
            "  inflating: train_set/sugarcane/sugarcane012ahf.jpeg  \n",
            "  inflating: train_set/sugarcane/sugarcane012ahs.jpeg  \n",
            "  inflating: train_set/sugarcane/sugarcane012arot.jpeg  \n",
            "  inflating: train_set/sugarcane/sugarcane013a.jpeg  \n",
            "  inflating: train_set/sugarcane/sugarcane013ahf.jpeg  \n",
            "  inflating: train_set/sugarcane/sugarcane013ahs.jpeg  \n",
            "  inflating: train_set/sugarcane/sugarcane013arot.jpeg  \n",
            "  inflating: train_set/sugarcane/sugarcane014a.jpeg  \n",
            "  inflating: train_set/sugarcane/sugarcane014ahf.jpeg  \n",
            "  inflating: train_set/sugarcane/sugarcane014ahs.jpeg  \n",
            "  inflating: train_set/sugarcane/sugarcane014arot.jpeg  \n",
            "  inflating: train_set/sugarcane/sugarcane015a.jpeg  \n",
            "  inflating: train_set/sugarcane/sugarcane015ahf.jpeg  \n",
            "  inflating: train_set/sugarcane/sugarcane015ahs.jpeg  \n",
            "  inflating: train_set/sugarcane/sugarcane015arot.jpeg  \n",
            "  inflating: train_set/sugarcane/sugarcane016a.jpeg  \n",
            "  inflating: train_set/sugarcane/sugarcane016ahf.jpeg  \n",
            "  inflating: train_set/sugarcane/sugarcane016ahs.jpeg  \n",
            "  inflating: train_set/sugarcane/sugarcane016arot.jpeg  \n",
            "  inflating: train_set/sugarcane/sugarcane017a.jpeg  \n",
            "  inflating: train_set/sugarcane/sugarcane017ahf.jpeg  \n",
            "  inflating: train_set/sugarcane/sugarcane017ahs.jpeg  \n",
            "  inflating: train_set/sugarcane/sugarcane017arot.jpeg  \n",
            "  inflating: train_set/sugarcane/sugarcane018a.jpeg  \n",
            "  inflating: train_set/sugarcane/sugarcane018ahf.jpeg  \n",
            "  inflating: train_set/sugarcane/sugarcane018ahs.jpeg  \n",
            "  inflating: train_set/sugarcane/sugarcane018arot.jpeg  \n",
            "  inflating: train_set/sugarcane/sugarcane019a.jpeg  \n",
            "  inflating: train_set/sugarcane/sugarcane019ahf.jpeg  \n",
            "  inflating: train_set/sugarcane/sugarcane019ahs.jpeg  \n",
            "  inflating: train_set/sugarcane/sugarcane019arot.jpeg  \n",
            "  inflating: train_set/sugarcane/sugarcane020a.jpeg  \n",
            "  inflating: train_set/sugarcane/sugarcane020ahf.jpeg  \n",
            "  inflating: train_set/sugarcane/sugarcane020ahs.jpeg  \n",
            "  inflating: train_set/sugarcane/sugarcane020arot.jpeg  \n",
            "  inflating: train_set/sugarcane/sugarcane021a.jpeg  \n",
            "  inflating: train_set/sugarcane/sugarcane021ahf.jpeg  \n",
            "  inflating: train_set/sugarcane/sugarcane021ahs.jpeg  \n",
            "  inflating: train_set/sugarcane/sugarcane021arot.jpeg  \n",
            "  inflating: train_set/sugarcane/sugarcane022a.jpeg  \n",
            "  inflating: train_set/sugarcane/sugarcane022ahf.jpeg  \n",
            "  inflating: train_set/sugarcane/sugarcane022ahs.jpeg  \n",
            "  inflating: train_set/sugarcane/sugarcane022arot.jpeg  \n",
            "  inflating: train_set/sugarcane/sugarcane023a.jpeg  \n",
            "  inflating: train_set/sugarcane/sugarcane023ahf.jpeg  \n",
            "  inflating: train_set/sugarcane/sugarcane023ahs.jpeg  \n",
            "  inflating: train_set/sugarcane/sugarcane023arot.jpeg  \n",
            "  inflating: train_set/sugarcane/sugarcane024a.jpeg  \n",
            "  inflating: train_set/sugarcane/sugarcane024ahf.jpeg  \n",
            "  inflating: train_set/sugarcane/sugarcane024ahs.jpeg  \n",
            "  inflating: train_set/sugarcane/sugarcane024arot.jpeg  \n",
            "  inflating: train_set/sugarcane/sugarcane025a.jpeg  \n",
            "  inflating: train_set/sugarcane/sugarcane025ahf.jpeg  \n",
            "  inflating: train_set/sugarcane/sugarcane025ahs.jpeg  \n",
            "  inflating: train_set/sugarcane/sugarcane025arot.jpeg  \n",
            "  inflating: train_set/sugarcane/sugarcane026a.jpeg  \n",
            "  inflating: train_set/sugarcane/sugarcane026ahf.jpeg  \n",
            "  inflating: train_set/sugarcane/sugarcane026ahs.jpeg  \n",
            "  inflating: train_set/sugarcane/sugarcane026arot.jpeg  \n",
            "  inflating: train_set/sugarcane/sugarcane027a.jpeg  \n",
            "  inflating: train_set/sugarcane/sugarcane027ahf.jpeg  \n",
            "  inflating: train_set/sugarcane/sugarcane027ahs.jpeg  \n",
            "  inflating: train_set/sugarcane/sugarcane027arot.jpeg  \n",
            "  inflating: train_set/sugarcane/sugarcane028a.jpeg  \n",
            "  inflating: train_set/sugarcane/sugarcane028ahf.jpeg  \n",
            "  inflating: train_set/sugarcane/sugarcane028ahs.jpeg  \n",
            "  inflating: train_set/sugarcane/sugarcane028arot.jpeg  \n",
            "  inflating: train_set/sugarcane/sugarcane029a.jpeg  \n",
            "  inflating: train_set/sugarcane/sugarcane029ahf.jpeg  \n",
            "  inflating: train_set/sugarcane/sugarcane029ahs.jpeg  \n",
            "  inflating: train_set/sugarcane/sugarcane029arot.jpeg  \n",
            "  inflating: train_set/sugarcane/sugarcane030a.jpeg  \n",
            "  inflating: train_set/sugarcane/sugarcane030ahf.jpeg  \n",
            "  inflating: train_set/sugarcane/sugarcane030ahs.jpeg  \n",
            "  inflating: train_set/sugarcane/sugarcane030arot.jpeg  \n",
            "  inflating: train_set/sugarcane/sugarcane031a.jpeg  \n",
            "  inflating: train_set/sugarcane/sugarcane031ahf.jpeg  \n",
            "  inflating: train_set/sugarcane/sugarcane031ahs.jpeg  \n",
            "  inflating: train_set/sugarcane/sugarcane031arot.jpeg  \n",
            "  inflating: train_set/sugarcane/sugarcane032a.jpeg  \n",
            "  inflating: train_set/sugarcane/sugarcane032ahf.jpeg  \n",
            "  inflating: train_set/sugarcane/sugarcane032ahs.jpeg  \n",
            "  inflating: train_set/sugarcane/sugarcane032arot.jpeg  \n",
            "  inflating: train_set/sugarcane/sugarcane033a.jpeg  \n",
            "  inflating: train_set/sugarcane/sugarcane033ahf.jpeg  \n",
            "  inflating: train_set/sugarcane/sugarcane033ahs.jpeg  \n",
            "  inflating: train_set/sugarcane/sugarcane033arot.jpeg  \n",
            "  inflating: train_set/sugarcane/sugarcane034a.jpeg  \n",
            "  inflating: train_set/sugarcane/sugarcane034ahf.jpeg  \n",
            "  inflating: train_set/sugarcane/sugarcane034ahs.jpeg  \n",
            "  inflating: train_set/sugarcane/sugarcane034arot.jpeg  \n",
            "  inflating: train_set/sugarcane/sugarcane035a.jpeg  \n",
            "  inflating: train_set/sugarcane/sugarcane035ahf.jpeg  \n",
            "  inflating: train_set/sugarcane/sugarcane035ahs.jpeg  \n",
            "  inflating: train_set/sugarcane/sugarcane035arot.jpeg  \n",
            "  inflating: train_set/sugarcane/sugarcane036a.jpeg  \n",
            "  inflating: train_set/sugarcane/sugarcane036ahf.jpeg  \n",
            "  inflating: train_set/sugarcane/sugarcane036ahs.jpeg  \n",
            "  inflating: train_set/sugarcane/sugarcane036arot.jpeg  \n",
            "  inflating: train_set/sugarcane/sugarcane037a.jpeg  \n",
            "  inflating: train_set/sugarcane/sugarcane037ahf.jpeg  \n",
            "  inflating: train_set/sugarcane/sugarcane037ahs.jpeg  \n",
            "  inflating: train_set/sugarcane/sugarcane037arot.jpeg  \n",
            "  inflating: train_set/sugarcane/sugarcane038a.jpeg  \n",
            "  inflating: train_set/sugarcane/sugarcane038ahf.jpeg  \n",
            "  inflating: train_set/sugarcane/sugarcane038ahs.jpeg  \n",
            "  inflating: train_set/sugarcane/sugarcane038arot.jpeg  \n",
            "  inflating: train_set/sugarcane/sugarcane039a.jpeg  \n",
            "  inflating: train_set/sugarcane/sugarcane039ahf.jpeg  \n",
            "  inflating: train_set/sugarcane/sugarcane039ahs.jpeg  \n",
            "  inflating: train_set/sugarcane/sugarcane039arot.jpeg  \n",
            "  inflating: train_set/sugarcane/sugarcane040a.jpeg  \n",
            "  inflating: train_set/sugarcane/sugarcane040ahf.jpeg  \n",
            "  inflating: train_set/sugarcane/sugarcane040ahs.jpeg  \n",
            "  inflating: train_set/sugarcane/sugarcane040arot.jpeg  \n",
            "   creating: train_set/wheat/\n",
            "  inflating: train_set/wheat/wheat0001a.jpeg  \n",
            "  inflating: train_set/wheat/wheat0001ahf.jpeg  \n",
            "  inflating: train_set/wheat/wheat0001ahs.jpeg  \n",
            "  inflating: train_set/wheat/wheat0001arot.jpeg  \n",
            "  inflating: train_set/wheat/wheat0002a.jpeg  \n",
            "  inflating: train_set/wheat/wheat0002ahf.jpeg  \n",
            "  inflating: train_set/wheat/wheat0002ahs.jpeg  \n",
            "  inflating: train_set/wheat/wheat0002arot.jpeg  \n",
            "  inflating: train_set/wheat/wheat0004a.jpeg  \n",
            "  inflating: train_set/wheat/wheat0004ahf.jpeg  \n",
            "  inflating: train_set/wheat/wheat0004ahs.jpeg  \n",
            "  inflating: train_set/wheat/wheat0004arot.jpeg  \n",
            "  inflating: train_set/wheat/wheat003.jpeg  \n",
            "  inflating: train_set/wheat/wheat003hf.jpeg  \n",
            "  inflating: train_set/wheat/wheat003hs.jpeg  \n",
            "  inflating: train_set/wheat/wheat003rot.jpeg  \n",
            "  inflating: train_set/wheat/wheat004a.jpeg  \n",
            "  inflating: train_set/wheat/wheat004ahf.jpeg  \n",
            "  inflating: train_set/wheat/wheat004ahs.jpeg  \n",
            "  inflating: train_set/wheat/wheat004arot.jpeg  \n",
            "  inflating: train_set/wheat/wheat005a.jpeg  \n",
            "  inflating: train_set/wheat/wheat005ahf.jpeg  \n",
            "  inflating: train_set/wheat/wheat005ahs.jpeg  \n",
            "  inflating: train_set/wheat/wheat005arot.jpeg  \n",
            "  inflating: train_set/wheat/wheat006a.jpeg  \n",
            "  inflating: train_set/wheat/wheat006ahf.jpeg  \n",
            "  inflating: train_set/wheat/wheat006ahs.jpeg  \n",
            "  inflating: train_set/wheat/wheat006arot.jpeg  \n",
            "  inflating: train_set/wheat/wheat007a.jpeg  \n",
            "  inflating: train_set/wheat/wheat007ahf.jpeg  \n",
            "  inflating: train_set/wheat/wheat007ahs.jpeg  \n",
            "  inflating: train_set/wheat/wheat007arot.jpeg  \n",
            "  inflating: train_set/wheat/wheat008a.jpeg  \n",
            "  inflating: train_set/wheat/wheat008ahf.jpeg  \n",
            "  inflating: train_set/wheat/wheat008ahs.jpeg  \n",
            "  inflating: train_set/wheat/wheat008arot.jpeg  \n",
            "  inflating: train_set/wheat/wheat009a.jpeg  \n",
            "  inflating: train_set/wheat/wheat009ahf.jpeg  \n",
            "  inflating: train_set/wheat/wheat009ahs.jpeg  \n",
            "  inflating: train_set/wheat/wheat009arot.jpeg  \n",
            "  inflating: train_set/wheat/wheat010a.jpeg  \n",
            "  inflating: train_set/wheat/wheat010ahf.jpeg  \n",
            "  inflating: train_set/wheat/wheat010ahs.jpeg  \n",
            "  inflating: train_set/wheat/wheat010arot.jpeg  \n",
            "  inflating: train_set/wheat/wheat011.jpeg  \n",
            "  inflating: train_set/wheat/wheat011hf.jpeg  \n",
            "  inflating: train_set/wheat/wheat011hs.jpeg  \n",
            "  inflating: train_set/wheat/wheat011rot.jpeg  \n",
            "  inflating: train_set/wheat/wheat012a.jpeg  \n",
            "  inflating: train_set/wheat/wheat012ahf.jpeg  \n",
            "  inflating: train_set/wheat/wheat012ahs.jpeg  \n",
            "  inflating: train_set/wheat/wheat012arot.jpeg  \n",
            "  inflating: train_set/wheat/wheat013a.jpeg  \n",
            "  inflating: train_set/wheat/wheat013ahf.jpeg  \n",
            "  inflating: train_set/wheat/wheat013ahs.jpeg  \n",
            "  inflating: train_set/wheat/wheat013arot.jpeg  \n",
            "  inflating: train_set/wheat/wheat014a.jpeg  \n",
            "  inflating: train_set/wheat/wheat014ahf.jpeg  \n",
            "  inflating: train_set/wheat/wheat014ahs.jpeg  \n",
            "  inflating: train_set/wheat/wheat014arot.jpeg  \n",
            "  inflating: train_set/wheat/wheat015a.jpeg  \n",
            "  inflating: train_set/wheat/wheat015ahf.jpeg  \n",
            "  inflating: train_set/wheat/wheat015ahs.jpeg  \n",
            "  inflating: train_set/wheat/wheat015arot.jpeg  \n",
            "  inflating: train_set/wheat/wheat016a.jpeg  \n",
            "  inflating: train_set/wheat/wheat016ahf.jpeg  \n",
            "  inflating: train_set/wheat/wheat016ahs.jpeg  \n",
            "  inflating: train_set/wheat/wheat016arot.jpeg  \n",
            "  inflating: train_set/wheat/wheat017a.jpeg  \n",
            "  inflating: train_set/wheat/wheat017ahf.jpeg  \n",
            "  inflating: train_set/wheat/wheat017ahs.jpeg  \n",
            "  inflating: train_set/wheat/wheat017arot.jpeg  \n",
            "  inflating: train_set/wheat/wheat018a.jpeg  \n",
            "  inflating: train_set/wheat/wheat018ahf.jpeg  \n",
            "  inflating: train_set/wheat/wheat018ahs.jpeg  \n",
            "  inflating: train_set/wheat/wheat018arot.jpeg  \n",
            "  inflating: train_set/wheat/wheat019a.jpeg  \n",
            "  inflating: train_set/wheat/wheat019ahf.jpeg  \n",
            "  inflating: train_set/wheat/wheat019ahs.jpeg  \n",
            "  inflating: train_set/wheat/wheat019arot.jpeg  \n",
            "  inflating: train_set/wheat/wheat020a.jpeg  \n",
            "  inflating: train_set/wheat/wheat020ahf.jpeg  \n",
            "  inflating: train_set/wheat/wheat020ahs.jpeg  \n",
            "  inflating: train_set/wheat/wheat020arot.jpeg  \n",
            "  inflating: train_set/wheat/wheat021a.jpeg  \n",
            "  inflating: train_set/wheat/wheat021ahf.jpeg  \n",
            "  inflating: train_set/wheat/wheat021ahs.jpeg  \n",
            "  inflating: train_set/wheat/wheat021arot.jpeg  \n",
            "  inflating: train_set/wheat/wheat022a.jpeg  \n",
            "  inflating: train_set/wheat/wheat022ahf.jpeg  \n",
            "  inflating: train_set/wheat/wheat022ahs.jpeg  \n",
            "  inflating: train_set/wheat/wheat022arot.jpeg  \n",
            "  inflating: train_set/wheat/wheat023a.jpeg  \n",
            "  inflating: train_set/wheat/wheat023ahf.jpeg  \n",
            "  inflating: train_set/wheat/wheat023ahs.jpeg  \n",
            "  inflating: train_set/wheat/wheat023arot.jpeg  \n",
            "  inflating: train_set/wheat/wheat024a.jpeg  \n",
            "  inflating: train_set/wheat/wheat024ahf.jpeg  \n",
            "  inflating: train_set/wheat/wheat024ahs.jpeg  \n",
            "  inflating: train_set/wheat/wheat024arot.jpeg  \n",
            "  inflating: train_set/wheat/wheat025a.jpeg  \n",
            "  inflating: train_set/wheat/wheat025ahf.jpeg  \n",
            "  inflating: train_set/wheat/wheat025ahs.jpeg  \n",
            "  inflating: train_set/wheat/wheat025arot.jpeg  \n",
            "  inflating: train_set/wheat/wheat026a.jpeg  \n",
            "  inflating: train_set/wheat/wheat026ahf.jpeg  \n",
            "  inflating: train_set/wheat/wheat026ahs.jpeg  \n",
            "  inflating: train_set/wheat/wheat026arot.jpeg  \n",
            "  inflating: train_set/wheat/wheat027a.jpeg  \n",
            "  inflating: train_set/wheat/wheat027ahf.jpeg  \n",
            "  inflating: train_set/wheat/wheat027ahs.jpeg  \n",
            "  inflating: train_set/wheat/wheat027arot.jpeg  \n",
            "  inflating: train_set/wheat/wheat028a.jpeg  \n",
            "  inflating: train_set/wheat/wheat028ahf.jpeg  \n",
            "  inflating: train_set/wheat/wheat028ahs.jpeg  \n",
            "  inflating: train_set/wheat/wheat028arot.jpeg  \n",
            "  inflating: train_set/wheat/wheat029a.jpeg  \n",
            "  inflating: train_set/wheat/wheat029ahf.jpeg  \n",
            "  inflating: train_set/wheat/wheat029ahs.jpeg  \n",
            "  inflating: train_set/wheat/wheat029arot.jpeg  \n",
            "  inflating: train_set/wheat/wheat030a.jpeg  \n",
            "  inflating: train_set/wheat/wheat030ahf.jpeg  \n",
            "  inflating: train_set/wheat/wheat030ahs.jpeg  \n",
            "  inflating: train_set/wheat/wheat030arot.jpeg  \n",
            "  inflating: train_set/wheat/wheat031a.jpeg  \n",
            "  inflating: train_set/wheat/wheat031ahf.jpeg  \n",
            "  inflating: train_set/wheat/wheat031ahs.jpeg  \n",
            "  inflating: train_set/wheat/wheat031arot.jpeg  \n",
            "  inflating: train_set/wheat/wheat032a.jpeg  \n",
            "  inflating: train_set/wheat/wheat032ahf.jpeg  \n",
            "  inflating: train_set/wheat/wheat032ahs.jpeg  \n",
            "  inflating: train_set/wheat/wheat032arot.jpeg  \n",
            "  inflating: train_set/wheat/wheat033a.jpeg  \n",
            "  inflating: train_set/wheat/wheat033ahf.jpeg  \n",
            "  inflating: train_set/wheat/wheat033ahs.jpeg  \n",
            "  inflating: train_set/wheat/wheat033arot.jpeg  \n",
            "  inflating: train_set/wheat/wheat034a.jpeg  \n",
            "  inflating: train_set/wheat/wheat034ahf.jpeg  \n",
            "  inflating: train_set/wheat/wheat034ahs.jpeg  \n",
            "  inflating: train_set/wheat/wheat034arot.jpeg  \n",
            "  inflating: train_set/wheat/wheat035a.jpeg  \n",
            "  inflating: train_set/wheat/wheat035ahf.jpeg  \n",
            "  inflating: train_set/wheat/wheat035ahs.jpeg  \n",
            "  inflating: train_set/wheat/wheat035arot.jpeg  \n",
            "  inflating: train_set/wheat/wheat036a.jpeg  \n",
            "  inflating: train_set/wheat/wheat036ahf.jpeg  \n",
            "  inflating: train_set/wheat/wheat036ahs.jpeg  \n",
            "  inflating: train_set/wheat/wheat036arot.jpeg  \n",
            "  inflating: train_set/wheat/wheat037a.jpeg  \n",
            "  inflating: train_set/wheat/wheat037ahf.jpeg  \n",
            "  inflating: train_set/wheat/wheat037ahs.jpeg  \n",
            "  inflating: train_set/wheat/wheat037arot.jpeg  \n",
            "  inflating: train_set/wheat/wheat038a.jpeg  \n",
            "  inflating: train_set/wheat/wheat038ahf.jpeg  \n",
            "  inflating: train_set/wheat/wheat038ahs.jpeg  \n",
            "  inflating: train_set/wheat/wheat038arot.jpeg  \n",
            "  inflating: train_set/wheat/wheat039a.jpeg  \n",
            "  inflating: train_set/wheat/wheat039ahf.jpeg  \n",
            "  inflating: train_set/wheat/wheat039ahs.jpeg  \n",
            "  inflating: train_set/wheat/wheat039arot.jpeg  \n",
            "  inflating: train_set/wheat/wheat040a.jpeg  \n",
            "  inflating: train_set/wheat/wheat040ahf.jpeg  \n",
            "  inflating: train_set/wheat/wheat040ahs.jpeg  \n",
            "  inflating: train_set/wheat/wheat040arot.jpeg  \n"
          ],
          "name": "stdout"
        }
      ]
    },
    {
      "cell_type": "code",
      "metadata": {
        "id": "IHNbXVfhKylQ"
      },
      "source": [
        "import pathlib\n",
        "dataset_url = \"/content/train_set\"\n",
        "test_url =\"/content/test_set\""
      ],
      "execution_count": 11,
      "outputs": []
    },
    {
      "cell_type": "code",
      "metadata": {
        "id": "bqa9R_tELJi4"
      },
      "source": [
        "batch_size = 32\n",
        "img_height = 180\n",
        "img_width = 180"
      ],
      "execution_count": 12,
      "outputs": []
    },
    {
      "cell_type": "code",
      "metadata": {
        "id": "oo3CjKzFLL3C"
      },
      "source": [
        "import matplotlib.pyplot as plt\n",
        "import numpy as np\n",
        "import os\n",
        "import PIL\n",
        "import tensorflow as tf\n",
        "\n",
        "from tensorflow import keras\n",
        "from tensorflow.keras import layers\n",
        "from tensorflow.keras.models import Sequential"
      ],
      "execution_count": 13,
      "outputs": []
    },
    {
      "cell_type": "code",
      "metadata": {
        "id": "dMDYDRvdLNrT"
      },
      "source": [
        "# re-size all the images to this\n",
        "IMAGE_SIZE = [180, 180]"
      ],
      "execution_count": 14,
      "outputs": []
    },
    {
      "cell_type": "code",
      "metadata": {
        "id": "efcGZ-4pLPvV",
        "colab": {
          "base_uri": "https://localhost:8080/"
        },
        "outputId": "9b2cd7a7-0fb6-4231-b8c5-0c59ab5460a3"
      },
      "source": [
        "import tensorflow\n",
        "VGG16 =tensorflow.keras.applications.VGG16(input_shape=IMAGE_SIZE + [3], weights='imagenet', include_top=False)\n"
      ],
      "execution_count": 15,
      "outputs": [
        {
          "output_type": "stream",
          "text": [
            "Downloading data from https://storage.googleapis.com/tensorflow/keras-applications/vgg16/vgg16_weights_tf_dim_ordering_tf_kernels_notop.h5\n",
            "58892288/58889256 [==============================] - 0s 0us/step\n"
          ],
          "name": "stdout"
        }
      ]
    },
    {
      "cell_type": "code",
      "metadata": {
        "id": "n3EHyB2aLRkY"
      },
      "source": [
        "# don't train existing weights\n",
        "for layer in VGG16.layers:\n",
        "    layer.trainable = False\n"
      ],
      "execution_count": 16,
      "outputs": []
    },
    {
      "cell_type": "code",
      "metadata": {
        "id": "gyR0nYaWLURd"
      },
      "source": [
        "# our layers - you can add more if you want\n",
        "x = Flatten()(VGG16.output)\n"
      ],
      "execution_count": 17,
      "outputs": []
    },
    {
      "cell_type": "code",
      "metadata": {
        "id": "CpKHDLstLWq3"
      },
      "source": [
        "prediction = Dense(5, activation='softmax')(x)\n",
        "\n",
        "# create a model object\n",
        "model = Model(inputs=VGG16.input, outputs=prediction)"
      ],
      "execution_count": 18,
      "outputs": []
    },
    {
      "cell_type": "code",
      "metadata": {
        "id": "Z24QtoqWLYXF"
      },
      "source": [
        "\n",
        "# tell the model what cost and optimization method to use\n",
        "model.compile(\n",
        "  loss='categorical_crossentropy',\n",
        "  optimizer='adam',\n",
        "  metrics=['accuracy']\n",
        ")"
      ],
      "execution_count": 19,
      "outputs": []
    },
    {
      "cell_type": "code",
      "metadata": {
        "id": "DEn78UUZLe-J"
      },
      "source": [
        "# Use the Image Data Generator to import the images from the dataset\n",
        "from tensorflow.keras.preprocessing.image import ImageDataGenerator\n",
        "\n",
        "train_datagen = ImageDataGenerator(rescale = 1./255,\n",
        "                                   shear_range = 0.2,\n",
        "                                   zoom_range = 0.2,\n",
        "                                   horizontal_flip = True)\n",
        "\n",
        "test_datagen = ImageDataGenerator(rescale = 1./255)\n"
      ],
      "execution_count": 20,
      "outputs": []
    },
    {
      "cell_type": "code",
      "metadata": {
        "colab": {
          "base_uri": "https://localhost:8080/"
        },
        "id": "lcV2t0AQLhwT",
        "outputId": "737b54b3-efac-4906-d5a1-977fdc56674a"
      },
      "source": [
        "# Make sure you provide the same target size as initialied for the image size\n",
        "training_set = train_datagen.flow_from_directory(dataset_url,\n",
        "                                                 target_size = (180,180),\n",
        "                                                 batch_size = 32,\n",
        "                                                 class_mode = 'categorical')\n"
      ],
      "execution_count": 21,
      "outputs": [
        {
          "output_type": "stream",
          "text": [
            "Found 804 images belonging to 5 classes.\n"
          ],
          "name": "stdout"
        }
      ]
    },
    {
      "cell_type": "code",
      "metadata": {
        "colab": {
          "base_uri": "https://localhost:8080/"
        },
        "id": "Ba7XNh4yLl68",
        "outputId": "1143d478-4633-4836-e7c5-1e5705520da2"
      },
      "source": [
        "test_set = test_datagen.flow_from_directory(test_url,\n",
        "                                            target_size = (180, 180),\n",
        "                                            batch_size = 32,\n",
        "                                            class_mode = 'categorical')"
      ],
      "execution_count": 22,
      "outputs": [
        {
          "output_type": "stream",
          "text": [
            "Found 201 images belonging to 5 classes.\n"
          ],
          "name": "stdout"
        }
      ]
    },
    {
      "cell_type": "code",
      "metadata": {
        "colab": {
          "base_uri": "https://localhost:8080/"
        },
        "id": "4jRoC4MOL89y",
        "outputId": "c31de09c-8b4c-4770-bf91-3ddd6b2d8706"
      },
      "source": [
        "# fit the model\n",
        "# Run the cell. It will take some time to execute\n",
        "r = model.fit_generator(\n",
        "  training_set,\n",
        "  validation_data=test_set,\n",
        "  epochs=5,\n",
        "  steps_per_epoch=len(training_set),\n",
        "  validation_steps=len(test_set)\n",
        ")"
      ],
      "execution_count": 23,
      "outputs": [
        {
          "output_type": "stream",
          "text": [
            "/usr/local/lib/python3.7/dist-packages/tensorflow/python/keras/engine/training.py:1844: UserWarning: `Model.fit_generator` is deprecated and will be removed in a future version. Please use `Model.fit`, which supports generators.\n",
            "  warnings.warn('`Model.fit_generator` is deprecated and '\n"
          ],
          "name": "stderr"
        },
        {
          "output_type": "stream",
          "text": [
            "Epoch 1/5\n",
            "26/26 [==============================] - 320s 12s/step - loss: 1.5332 - accuracy: 0.3436 - val_loss: 0.8169 - val_accuracy: 0.6716\n",
            "Epoch 2/5\n",
            "26/26 [==============================] - 319s 12s/step - loss: 0.7616 - accuracy: 0.7584 - val_loss: 0.5045 - val_accuracy: 0.9005\n",
            "Epoch 3/5\n",
            "26/26 [==============================] - 318s 12s/step - loss: 0.5379 - accuracy: 0.8593 - val_loss: 0.3710 - val_accuracy: 0.9254\n",
            "Epoch 4/5\n",
            "26/26 [==============================] - 318s 12s/step - loss: 0.4079 - accuracy: 0.9054 - val_loss: 0.2888 - val_accuracy: 0.9751\n",
            "Epoch 5/5\n",
            "26/26 [==============================] - 318s 12s/step - loss: 0.3395 - accuracy: 0.9617 - val_loss: 0.2421 - val_accuracy: 0.9652\n"
          ],
          "name": "stdout"
        }
      ]
    },
    {
      "cell_type": "code",
      "metadata": {
        "id": "krzsJQgjMAcV"
      },
      "source": [
        "import os\n",
        "import matplotlib.pyplot as plt\n",
        "os.makedirs('modal')"
      ],
      "execution_count": 24,
      "outputs": []
    },
    {
      "cell_type": "code",
      "metadata": {
        "colab": {
          "base_uri": "https://localhost:8080/",
          "height": 533
        },
        "id": "2OljcIFTVvv3",
        "outputId": "0f8950eb-1698-4122-f62b-b2f3ce609e0d"
      },
      "source": [
        "# plot the loss\n",
        "plt.plot(r.history['loss'], label='train loss')\n",
        "plt.plot(r.history['val_loss'], label='val loss')\n",
        "plt.legend()\n",
        "plt.show()\n",
        "plt.savefig('LossVal_loss')\n",
        "\n",
        "# plot the accuracy\n",
        "plt.plot(r.history['accuracy'], label='train acc')\n",
        "plt.plot(r.history['val_accuracy'], label='val acc')\n",
        "plt.legend()\n",
        "plt.show()\n",
        "plt.savefig('AccVal_acc')"
      ],
      "execution_count": 25,
      "outputs": [
        {
          "output_type": "display_data",
          "data": {
            "image/png": "[encoded data removed]",
            "text/plain": [
              "<Figure size 432x288 with 1 Axes>"
            ]
          },
          "metadata": {
            "tags": [],
            "needs_background": "light"
          }
        },
        {
          "output_type": "display_data",
          "data": {
            "image/png": "[encoded data removed]",
            "text/plain": [
              "<Figure size 432x288 with 1 Axes>"
            ]
          },
          "metadata": {
            "tags": [],
            "needs_background": "light"
          }
        },
        {
          "output_type": "display_data",
          "data": {
            "text/plain": [
              "<Figure size 432x288 with 0 Axes>"
            ]
          },
          "metadata": {
            "tags": []
          }
        }
      ]
    },
    {
      "cell_type": "code",
      "metadata": {
        "id": "OZE4LPirWLSD"
      },
      "source": [
        "from tensorflow.keras.models import load_model\n",
        "\n",
        "model.save('/content/modals/VGG16.h5')"
      ],
      "execution_count": 26,
      "outputs": []
    },
    {
      "cell_type": "code",
      "metadata": {
        "id": "ESptSrRpWO21"
      },
      "source": [
        "y_pred = model.predict(test_set)"
      ],
      "execution_count": 27,
      "outputs": []
    },
    {
      "cell_type": "code",
      "metadata": {
        "colab": {
          "base_uri": "https://localhost:8080/"
        },
        "id": "5WZxC894WRUs",
        "outputId": "e6519b2f-db55-4dfb-b529-d47ea40b2957"
      },
      "source": [
        "y_pred"
      ],
      "execution_count": 28,
      "outputs": [
        {
          "output_type": "execute_result",
          "data": {
            "text/plain": [
              "array([[0.03899329, 0.17528062, 0.01141229, 0.7729524 , 0.00136142],\n",
              "       [0.04696294, 0.1275126 , 0.15076634, 0.39131775, 0.2834404 ],\n",
              "       [0.7766861 , 0.05928914, 0.06843107, 0.07100131, 0.02459247],\n",
              "       ...,\n",
              "       [0.08100142, 0.4363417 , 0.28727007, 0.11733876, 0.07804806],\n",
              "       [0.09901461, 0.81517404, 0.0273337 , 0.05637604, 0.00210164],\n",
              "       [0.37478375, 0.22910514, 0.11045737, 0.2505761 , 0.03507761]],\n",
              "      dtype=float32)"
            ]
          },
          "metadata": {
            "tags": []
          },
          "execution_count": 28
        }
      ]
    },
    {
      "cell_type": "code",
      "metadata": {
        "id": "klZSQzY1WjCq"
      },
      "source": [
        "import numpy as np\n",
        "y_pred = np.argmax(y_pred, axis=1)"
      ],
      "execution_count": 29,
      "outputs": []
    },
    {
      "cell_type": "code",
      "metadata": {
        "colab": {
          "base_uri": "https://localhost:8080/"
        },
        "id": "6pOcN7RkWmWJ",
        "outputId": "bf137289-5029-4bbc-ed9b-c003f4027aee"
      },
      "source": [
        "y_pred"
      ],
      "execution_count": 30,
      "outputs": [
        {
          "output_type": "execute_result",
          "data": {
            "text/plain": [
              "array([3, 3, 0, 3, 3, 2, 2, 2, 2, 3, 1, 3, 3, 3, 3, 3, 2, 0, 4, 4, 2, 1,\n",
              "       0, 1, 4, 0, 0, 2, 4, 1, 0, 3, 4, 1, 1, 3, 0, 3, 3, 0, 0, 2, 2, 0,\n",
              "       0, 1, 2, 2, 1, 0, 1, 0, 3, 2, 0, 2, 3, 4, 3, 3, 2, 3, 3, 1, 2, 3,\n",
              "       4, 3, 1, 3, 4, 1, 1, 2, 2, 4, 1, 4, 0, 2, 4, 3, 3, 1, 1, 2, 3, 1,\n",
              "       3, 4, 4, 1, 4, 0, 1, 2, 2, 3, 0, 0, 3, 1, 3, 3, 2, 1, 1, 0, 2, 2,\n",
              "       4, 1, 4, 4, 4, 1, 2, 0, 1, 0, 4, 4, 0, 4, 4, 0, 4, 3, 4, 2, 3, 2,\n",
              "       4, 2, 2, 2, 3, 0, 1, 4, 4, 4, 4, 4, 2, 0, 4, 0, 2, 1, 2, 2, 0, 0,\n",
              "       2, 3, 1, 1, 4, 0, 0, 0, 3, 1, 2, 3, 3, 4, 2, 1, 4, 1, 4, 0, 1, 1,\n",
              "       2, 0, 1, 0, 4, 3, 0, 3, 0, 4, 3, 1, 0, 2, 0, 2, 0, 1, 4, 0, 2, 2,\n",
              "       1, 1, 0])"
            ]
          },
          "metadata": {
            "tags": []
          },
          "execution_count": 30
        }
      ]
    },
    {
      "cell_type": "code",
      "metadata": {
        "id": "UzxNdfwvXL2U",
        "colab": {
          "base_uri": "https://localhost:8080/"
        },
        "outputId": "ea5e6e74-4490-4457-86b3-19916aa182ad"
      },
      "source": [
        "from sklearn.metrics import classification_report, confusion_matrix, accuracy_score\n",
        "import sklearn.metrics as metrics\n",
        "\n",
        "cm = metrics.confusion_matrix(test_set.classes, y_pred)\n",
        "cm"
      ],
      "execution_count": 32,
      "outputs": [
        {
          "output_type": "execute_result",
          "data": {
            "text/plain": [
              "array([[ 8,  6,  7, 14,  5],\n",
              "       [ 7,  8, 11,  9,  5],\n",
              "       [ 6, 11,  7,  8,  8],\n",
              "       [ 8,  4, 10,  4, 14],\n",
              "       [12, 10,  7,  6,  6]])"
            ]
          },
          "metadata": {
            "tags": []
          },
          "execution_count": 32
        }
      ]
    },
    {
      "cell_type": "code",
      "metadata": {
        "colab": {
          "base_uri": "https://localhost:8080/"
        },
        "id": "YuKVouWTN9Gh",
        "outputId": "b4bd5084-951c-4f6c-f453-be79b622506a"
      },
      "source": [
        "print(metrics.classification_report(test_set.classes, y_pred))"
      ],
      "execution_count": 33,
      "outputs": [
        {
          "output_type": "stream",
          "text": [
            "              precision    recall  f1-score   support\n",
            "\n",
            "           0       0.20      0.20      0.20        40\n",
            "           1       0.21      0.20      0.20        40\n",
            "           2       0.17      0.17      0.17        40\n",
            "           3       0.10      0.10      0.10        40\n",
            "           4       0.16      0.15      0.15        41\n",
            "\n",
            "    accuracy                           0.16       201\n",
            "   macro avg       0.16      0.16      0.16       201\n",
            "weighted avg       0.16      0.16      0.16       201\n",
            "\n"
          ],
          "name": "stdout"
        }
      ]
    },
    {
      "cell_type": "code",
      "metadata": {
        "colab": {
          "base_uri": "https://localhost:8080/"
        },
        "id": "AxzpEbssOEVC",
        "outputId": "6d6b9a4d-d7fc-4070-e696-ab4e15497ab6"
      },
      "source": [
        "print(accuracy_score)"
      ],
      "execution_count": 35,
      "outputs": [
        {
          "output_type": "stream",
          "text": [
            "<function accuracy_score at 0x7f766d2adb90>\n"
          ],
          "name": "stdout"
        }
      ]
    },
    {
      "cell_type": "code",
      "metadata": {
        "id": "vEWx6_qWOKKx"
      },
      "source": [
        ""
      ],
      "execution_count": null,
      "outputs": []
    }
  ]
}