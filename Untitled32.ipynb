{
 "cells": [
  {
   "cell_type": "code",
   "execution_count": null,
   "metadata": {},
   "outputs": [],
   "source": []
  },
  {
   "cell_type": "code",
   "execution_count": 3,
   "metadata": {},
   "outputs": [
    {
     "name": "stderr",
     "output_type": "stream",
     "text": [
      "C:\\Users\\Dheeraj Kumar\\Anaconda3\\lib\\site-packages\\distributed\\utils.py:133: RuntimeWarning: Couldn't detect a suitable IP address for reaching '8.8.8.8', defaulting to '127.0.0.1': [WinError 10065] A socket operation was attempted to an unreachable host\n",
      "  RuntimeWarning,\n"
     ]
    }
   ],
   "source": [
    "from pandas import read_csv\n",
    "from sklearn.metrics import cohen_kappa_score\n",
    "from sklearn.metrics import matthews_corrcoef\n",
    "from sklearn.metrics import roc_curve  \n",
    "from sklearn.linear_model import RidgeClassifier\n",
    "from sklearn import metrics\n",
    "from matplotlib import pyplot\n",
    "from sklearn.model_selection import train_test_split\n",
    "from sklearn.model_selection import cross_val_score\n",
    "from sklearn.model_selection import StratifiedKFold\n",
    "from sklearn.metrics import classification_report\n",
    "from xgboost import XGBClassifier\n",
    "from sklearn.metrics import confusion_matrix\n",
    "from sklearn.metrics import accuracy_score\n",
    "from sklearn import model_selection\n",
    "from sklearn.ensemble import AdaBoostClassifier \n",
    "from sklearn.tree import DecisionTreeClassifier\n",
    "from sklearn.neighbors import KNeighborsClassifier\n",
    "from sklearn.naive_bayes import GaussianNB\n",
    "from sklearn.svm import SVC\n",
    "import matplotlib.pyplot as plt\n",
    "from sklearn.linear_model import LogisticRegression\n",
    "from sklearn.ensemble import RandomForestClassifier\n",
    "from sklearn.ensemble import ExtraTreesClassifier \n",
    "from sklearn.ensemble import GradientBoostingClassifier\n",
    "from sklearn.discriminant_analysis import QuadraticDiscriminantAnalysis\n",
    "from sklearn.discriminant_analysis import LinearDiscriminantAnalysis\n",
    "from lightgbm import LGBMClassifier\n",
    "from catboost import CatBoostClassifier\n",
    "from sklearn.naive_bayes import ComplementNB\n",
    "from sklearn.ensemble import BaggingClassifier\n",
    "from sklearn.gaussian_process import GaussianProcessClassifier\n",
    "from sklearn.gaussian_process.kernels import RBF"
   ]
  },
  {
   "cell_type": "code",
   "execution_count": 4,
   "metadata": {},
   "outputs": [
    {
     "data": {
      "text/html": [
       "<div>\n",
       "<style scoped>\n",
       "    .dataframe tbody tr th:only-of-type {\n",
       "        vertical-align: middle;\n",
       "    }\n",
       "\n",
       "    .dataframe tbody tr th {\n",
       "        vertical-align: top;\n",
       "    }\n",
       "\n",
       "    .dataframe thead th {\n",
       "        text-align: right;\n",
       "    }\n",
       "</style>\n",
       "<table border=\"1\" class=\"dataframe\">\n",
       "  <thead>\n",
       "    <tr style=\"text-align: right;\">\n",
       "      <th></th>\n",
       "      <th>label</th>\n",
       "      <th>f1</th>\n",
       "      <th>f2</th>\n",
       "      <th>f3</th>\n",
       "      <th>f4</th>\n",
       "      <th>f5</th>\n",
       "      <th>f6</th>\n",
       "      <th>f7</th>\n",
       "      <th>f8</th>\n",
       "      <th>f9</th>\n",
       "      <th>...</th>\n",
       "      <th>f165</th>\n",
       "      <th>f166</th>\n",
       "      <th>f167</th>\n",
       "      <th>f168</th>\n",
       "      <th>f169</th>\n",
       "      <th>f170</th>\n",
       "      <th>f171</th>\n",
       "      <th>f172</th>\n",
       "      <th>f173</th>\n",
       "      <th>f174</th>\n",
       "    </tr>\n",
       "  </thead>\n",
       "  <tbody>\n",
       "    <tr>\n",
       "      <td>0</td>\n",
       "      <td>1</td>\n",
       "      <td>-13.559</td>\n",
       "      <td>-21.407</td>\n",
       "      <td>-11.4040</td>\n",
       "      <td>-15.248</td>\n",
       "      <td>-11.923</td>\n",
       "      <td>-15.291</td>\n",
       "      <td>-2.1548</td>\n",
       "      <td>-7.8474</td>\n",
       "      <td>-10.0020</td>\n",
       "      <td>...</td>\n",
       "      <td>0.18519</td>\n",
       "      <td>0.72602</td>\n",
       "      <td>5.3333</td>\n",
       "      <td>6.000000</td>\n",
       "      <td>0.29489</td>\n",
       "      <td>9.77780</td>\n",
       "      <td>2.44440</td>\n",
       "      <td>1.67700</td>\n",
       "      <td>0.20988</td>\n",
       "      <td>0.65422</td>\n",
       "    </tr>\n",
       "    <tr>\n",
       "      <td>1</td>\n",
       "      <td>1</td>\n",
       "      <td>-12.802</td>\n",
       "      <td>-20.335</td>\n",
       "      <td>-10.3990</td>\n",
       "      <td>-14.132</td>\n",
       "      <td>-11.096</td>\n",
       "      <td>-14.361</td>\n",
       "      <td>-2.4039</td>\n",
       "      <td>-7.5330</td>\n",
       "      <td>-9.9369</td>\n",
       "      <td>...</td>\n",
       "      <td>0.33333</td>\n",
       "      <td>-0.48751</td>\n",
       "      <td>2.1111</td>\n",
       "      <td>0.098765</td>\n",
       "      <td>0.83333</td>\n",
       "      <td>0.33333</td>\n",
       "      <td>0.33333</td>\n",
       "      <td>0.84869</td>\n",
       "      <td>0.50617</td>\n",
       "      <td>-0.18898</td>\n",
       "    </tr>\n",
       "    <tr>\n",
       "      <td>2</td>\n",
       "      <td>1</td>\n",
       "      <td>-12.431</td>\n",
       "      <td>-19.902</td>\n",
       "      <td>-10.0740</td>\n",
       "      <td>-13.598</td>\n",
       "      <td>-10.829</td>\n",
       "      <td>-14.048</td>\n",
       "      <td>-2.3566</td>\n",
       "      <td>-7.4717</td>\n",
       "      <td>-9.8283</td>\n",
       "      <td>...</td>\n",
       "      <td>0.25926</td>\n",
       "      <td>0.25298</td>\n",
       "      <td>2.2222</td>\n",
       "      <td>0.172840</td>\n",
       "      <td>0.68889</td>\n",
       "      <td>0.88889</td>\n",
       "      <td>0.66667</td>\n",
       "      <td>1.27300</td>\n",
       "      <td>0.30864</td>\n",
       "      <td>0.10483</td>\n",
       "    </tr>\n",
       "    <tr>\n",
       "      <td>3</td>\n",
       "      <td>1</td>\n",
       "      <td>-12.689</td>\n",
       "      <td>-19.529</td>\n",
       "      <td>-10.0280</td>\n",
       "      <td>-13.350</td>\n",
       "      <td>-11.056</td>\n",
       "      <td>-14.014</td>\n",
       "      <td>-2.6611</td>\n",
       "      <td>-6.8396</td>\n",
       "      <td>-9.5006</td>\n",
       "      <td>...</td>\n",
       "      <td>0.16049</td>\n",
       "      <td>0.43750</td>\n",
       "      <td>4.1111</td>\n",
       "      <td>0.320990</td>\n",
       "      <td>0.83333</td>\n",
       "      <td>0.33333</td>\n",
       "      <td>0.33333</td>\n",
       "      <td>1.14910</td>\n",
       "      <td>0.38272</td>\n",
       "      <td>0.41603</td>\n",
       "    </tr>\n",
       "    <tr>\n",
       "      <td>4</td>\n",
       "      <td>1</td>\n",
       "      <td>-12.686</td>\n",
       "      <td>-19.278</td>\n",
       "      <td>-9.8185</td>\n",
       "      <td>-13.108</td>\n",
       "      <td>-10.932</td>\n",
       "      <td>-13.939</td>\n",
       "      <td>-2.8675</td>\n",
       "      <td>-6.5919</td>\n",
       "      <td>-9.4594</td>\n",
       "      <td>...</td>\n",
       "      <td>0.18519</td>\n",
       "      <td>0.35000</td>\n",
       "      <td>4.0000</td>\n",
       "      <td>0.444440</td>\n",
       "      <td>0.68889</td>\n",
       "      <td>0.88889</td>\n",
       "      <td>0.66667</td>\n",
       "      <td>1.58110</td>\n",
       "      <td>0.20988</td>\n",
       "      <td>0.50000</td>\n",
       "    </tr>\n",
       "  </tbody>\n",
       "</table>\n",
       "<p>5 rows × 175 columns</p>\n",
       "</div>"
      ],
      "text/plain": [
       "   label      f1      f2       f3      f4      f5      f6      f7      f8  \\\n",
       "0      1 -13.559 -21.407 -11.4040 -15.248 -11.923 -15.291 -2.1548 -7.8474   \n",
       "1      1 -12.802 -20.335 -10.3990 -14.132 -11.096 -14.361 -2.4039 -7.5330   \n",
       "2      1 -12.431 -19.902 -10.0740 -13.598 -10.829 -14.048 -2.3566 -7.4717   \n",
       "3      1 -12.689 -19.529 -10.0280 -13.350 -11.056 -14.014 -2.6611 -6.8396   \n",
       "4      1 -12.686 -19.278  -9.8185 -13.108 -10.932 -13.939 -2.8675 -6.5919   \n",
       "\n",
       "        f9  ...     f165     f166    f167      f168     f169     f170  \\\n",
       "0 -10.0020  ...  0.18519  0.72602  5.3333  6.000000  0.29489  9.77780   \n",
       "1  -9.9369  ...  0.33333 -0.48751  2.1111  0.098765  0.83333  0.33333   \n",
       "2  -9.8283  ...  0.25926  0.25298  2.2222  0.172840  0.68889  0.88889   \n",
       "3  -9.5006  ...  0.16049  0.43750  4.1111  0.320990  0.83333  0.33333   \n",
       "4  -9.4594  ...  0.18519  0.35000  4.0000  0.444440  0.68889  0.88889   \n",
       "\n",
       "      f171     f172     f173     f174  \n",
       "0  2.44440  1.67700  0.20988  0.65422  \n",
       "1  0.33333  0.84869  0.50617 -0.18898  \n",
       "2  0.66667  1.27300  0.30864  0.10483  \n",
       "3  0.33333  1.14910  0.38272  0.41603  \n",
       "4  0.66667  1.58110  0.20988  0.50000  \n",
       "\n",
       "[5 rows x 175 columns]"
      ]
     },
     "execution_count": 4,
     "metadata": {},
     "output_type": "execute_result"
    }
   ],
   "source": [
    "import pandas as pd\n",
    "dataset= pd.read_csv(\"E:/term-paper/crop.csv\")\n",
    "dataset.head()"
   ]
  },
  {
   "cell_type": "code",
   "execution_count": 5,
   "metadata": {},
   "outputs": [],
   "source": [
    "# Split-out validation dataset\n",
    "#split the loaded dataset into two, 80% of which we will use to train, evaluate and select among our models\n",
    "#20% that we will hold back as a validation dataset.\n",
    "array = dataset.values\n",
    "X = array[:,1:176]\n",
    "y = array[:,0]\n",
    "#X_train, X_test, y_train, y_test = model_selection.train_test_split(X, y, train_size=0.80,test_size=0.20, random_state=0)\n",
    "X_train, X_validation, Y_train, Y_validation = train_test_split(X, y, test_size=0.20, random_state=1)\n",
    "#You now have training data in the X_train and Y_train for preparing models and a X_validation and Y_validation sets that we can use later for predictions."
   ]
  },
  {
   "cell_type": "code",
   "execution_count": 6,
   "metadata": {},
   "outputs": [
    {
     "name": "stdout",
     "output_type": "stream",
     "text": [
      "0.8896174863387978\n",
      "[[191   0   0   7   0   0   0]\n",
      " [  0 200   0   0   0   0   3]\n",
      " [  0   0 197   3   0   0   3]\n",
      " [  8   0   0 209   3   7   0]\n",
      " [  0   0   0   1 240  17   2]\n",
      " [  0   0   1   8 113 403   2]\n",
      " [ 23   0   1   0   0   0 188]]\n",
      "              precision    recall  f1-score   support\n",
      "\n",
      "         1.0       0.86      0.96      0.91       198\n",
      "         2.0       1.00      0.99      0.99       203\n",
      "         3.0       0.99      0.97      0.98       203\n",
      "         4.0       0.92      0.92      0.92       227\n",
      "         5.0       0.67      0.92      0.78       260\n",
      "         6.0       0.94      0.76      0.84       527\n",
      "         7.0       0.95      0.89      0.92       212\n",
      "\n",
      "    accuracy                           0.89      1830\n",
      "   macro avg       0.90      0.92      0.91      1830\n",
      "weighted avg       0.91      0.89      0.89      1830\n",
      "\n",
      "0.8685712213426172\n",
      "0.8716888392769235\n"
     ]
    }
   ],
   "source": [
    "#Naive Bayes\n",
    "model = GaussianNB()\n",
    "model.fit(X_train, Y_train) \n",
    "predictions = model.predict(X_validation)\n",
    "# Evaluate predictions\n",
    "print(accuracy_score(Y_validation, predictions))\n",
    "print(confusion_matrix(Y_validation, predictions))\n",
    "print(classification_report(Y_validation, predictions))\n",
    "print(cohen_kappa_score(Y_validation, predictions))\n",
    "print(matthews_corrcoef(Y_validation, predictions))\n"
   ]
  },
  {
   "cell_type": "code",
   "execution_count": 13,
   "metadata": {},
   "outputs": [
    {
     "name": "stdout",
     "output_type": "stream",
     "text": [
      "0.6879781420765028\n",
      "[[162   0   0   5  12  17   2]\n",
      " [  0 199   0   3   0   0   1]\n",
      " [  0   1 175  18   4   1   4]\n",
      " [ 11   0  14  84  37  50  31]\n",
      " [ 26   0   0  17 131  53  33]\n",
      " [ 14   0   0  34  52 417  10]\n",
      " [ 11   0   7  31  49  23  91]]\n",
      "              precision    recall  f1-score   support\n",
      "\n",
      "         1.0       0.72      0.82      0.77       198\n",
      "         2.0       0.99      0.98      0.99       203\n",
      "         3.0       0.89      0.86      0.88       203\n",
      "         4.0       0.44      0.37      0.40       227\n",
      "         5.0       0.46      0.50      0.48       260\n",
      "         6.0       0.74      0.79      0.77       527\n",
      "         7.0       0.53      0.43      0.47       212\n",
      "\n",
      "    accuracy                           0.69      1830\n",
      "   macro avg       0.68      0.68      0.68      1830\n",
      "weighted avg       0.68      0.69      0.68      1830\n",
      "\n",
      "0.6233624631221919\n",
      "0.6239706667948072\n"
     ]
    }
   ],
   "source": [
    "#K-Nearest Neighbors (KNN).\n",
    "model = KNeighborsClassifier()\n",
    "model.fit(X_train, Y_train)\n",
    "predictions = model.predict(X_validation)\n",
    "# Evaluate predictions\n",
    "print(accuracy_score(Y_validation, predictions))\n",
    "print(confusion_matrix(Y_validation, predictions))\n",
    "print(classification_report(Y_validation, predictions))\n",
    "print(cohen_kappa_score(Y_validation, predictions))\n",
    "print(matthews_corrcoef(Y_validation, predictions))"
   ]
  },
  {
   "cell_type": "code",
   "execution_count": 7,
   "metadata": {},
   "outputs": [
    {
     "name": "stdout",
     "output_type": "stream",
     "text": [
      "0.9912568306010929\n",
      "[[198   0   0   0   0   0   0]\n",
      " [  0 203   0   0   0   0   0]\n",
      " [  1   1 197   2   2   0   0]\n",
      " [  0   0   0 224   1   2   0]\n",
      " [  0   0   0   1 257   2   0]\n",
      " [  0   0   0   2   0 525   0]\n",
      " [  0   2   0   0   0   0 210]]\n",
      "              precision    recall  f1-score   support\n",
      "\n",
      "         1.0       0.99      1.00      1.00       198\n",
      "         2.0       0.99      1.00      0.99       203\n",
      "         3.0       1.00      0.97      0.98       203\n",
      "         4.0       0.98      0.99      0.98       227\n",
      "         5.0       0.99      0.99      0.99       260\n",
      "         6.0       0.99      1.00      0.99       527\n",
      "         7.0       1.00      0.99      1.00       212\n",
      "\n",
      "    accuracy                           0.99      1830\n",
      "   macro avg       0.99      0.99      0.99      1830\n",
      "weighted avg       0.99      0.99      0.99      1830\n",
      "\n",
      "0.9894857912750022\n",
      "0.9894961269935962\n"
     ]
    }
   ],
   "source": [
    "#Decision Tree\n",
    "model = DecisionTreeClassifier()\n",
    "model.fit(X_train, Y_train)\n",
    "predictions = model.predict(X_validation)\n",
    "# Evaluate predictions\n",
    "print(accuracy_score(Y_validation, predictions))\n",
    "print(confusion_matrix(Y_validation, predictions))\n",
    "print(classification_report(Y_validation, predictions))\n",
    "print(cohen_kappa_score(Y_validation, predictions))\n",
    "print(matthews_corrcoef(Y_validation, predictions))"
   ]
  },
  {
   "cell_type": "code",
   "execution_count": 8,
   "metadata": {},
   "outputs": [
    {
     "name": "stdout",
     "output_type": "stream",
     "text": [
      "0.6355191256830601\n",
      "[[  0   0   0   0 195   0   3]\n",
      " [  0 193   0   0   0   0  10]\n",
      " [  0   0   0   0 201   0   2]\n",
      " [  0   0   0   0 214  13   0]\n",
      " [  0   0   0   0 256   4   0]\n",
      " [  0   0   0   0  23 504   0]\n",
      " [  0   0   0   0   2   0 210]]\n",
      "              precision    recall  f1-score   support\n",
      "\n",
      "         1.0       0.00      0.00      0.00       198\n",
      "         2.0       1.00      0.95      0.97       203\n",
      "         3.0       0.00      0.00      0.00       203\n",
      "         4.0       0.00      0.00      0.00       227\n",
      "         5.0       0.29      0.98      0.44       260\n",
      "         6.0       0.97      0.96      0.96       527\n",
      "         7.0       0.93      0.99      0.96       212\n",
      "\n",
      "    accuracy                           0.64      1830\n",
      "   macro avg       0.46      0.55      0.48      1830\n",
      "weighted avg       0.54      0.64      0.56      1830\n",
      "\n",
      "0.5570750208469863\n",
      "0.6207601486886777\n"
     ]
    },
    {
     "name": "stderr",
     "output_type": "stream",
     "text": [
      "C:\\Users\\Dheeraj Kumar\\Anaconda3\\lib\\site-packages\\sklearn\\metrics\\_classification.py:1221: UndefinedMetricWarning: Precision and F-score are ill-defined and being set to 0.0 in labels with no predicted samples. Use `zero_division` parameter to control this behavior.\n",
      "  _warn_prf(average, modifier, msg_start, len(result))\n"
     ]
    }
   ],
   "source": [
    "#Adaboost\n",
    "model = AdaBoostClassifier(DecisionTreeClassifier(max_depth=1),n_estimators=200)\n",
    "model.fit(X_train, Y_train)\n",
    "predictions = model.predict(X_validation)\n",
    "# Evaluate predictions\n",
    "print(accuracy_score(Y_validation, predictions))\n",
    "print(confusion_matrix(Y_validation, predictions))\n",
    "print(classification_report(Y_validation, predictions))\n",
    "print(cohen_kappa_score(Y_validation, predictions))\n",
    "print(matthews_corrcoef(Y_validation, predictions))"
   ]
  },
  {
   "cell_type": "code",
   "execution_count": 9,
   "metadata": {},
   "outputs": [
    {
     "name": "stdout",
     "output_type": "stream",
     "text": [
      "0.28797814207650274\n",
      "[[  0   0   0   0   0 198   0]\n",
      " [  0   0   0   0   0 203   0]\n",
      " [  0   0   0   0   0 203   0]\n",
      " [  0   0   0   0   0 227   0]\n",
      " [  0   0   0   0   0 260   0]\n",
      " [  0   0   0   0   0 527   0]\n",
      " [  0   0   0   0   0 212   0]]\n",
      "              precision    recall  f1-score   support\n",
      "\n",
      "         1.0       0.00      0.00      0.00       198\n",
      "         2.0       0.00      0.00      0.00       203\n",
      "         3.0       0.00      0.00      0.00       203\n",
      "         4.0       0.00      0.00      0.00       227\n",
      "         5.0       0.00      0.00      0.00       260\n",
      "         6.0       0.29      1.00      0.45       527\n",
      "         7.0       0.00      0.00      0.00       212\n",
      "\n",
      "    accuracy                           0.29      1830\n",
      "   macro avg       0.04      0.14      0.06      1830\n",
      "weighted avg       0.08      0.29      0.13      1830\n",
      "\n",
      "0.0\n",
      "0.0\n"
     ]
    },
    {
     "name": "stderr",
     "output_type": "stream",
     "text": [
      "C:\\Users\\Dheeraj Kumar\\Anaconda3\\lib\\site-packages\\sklearn\\metrics\\_classification.py:1221: UndefinedMetricWarning: Precision and F-score are ill-defined and being set to 0.0 in labels with no predicted samples. Use `zero_division` parameter to control this behavior.\n",
      "  _warn_prf(average, modifier, msg_start, len(result))\n",
      "C:\\Users\\Dheeraj Kumar\\Anaconda3\\lib\\site-packages\\sklearn\\metrics\\_classification.py:846: RuntimeWarning: invalid value encountered in double_scalars\n",
      "  mcc = cov_ytyp / np.sqrt(cov_ytyt * cov_ypyp)\n"
     ]
    }
   ],
   "source": [
    "#Support Vector Machine\n",
    "model = SVC(gamma='auto')\n",
    "model.fit(X_train, Y_train)\n",
    "predictions = model.predict(X_validation)\n",
    "# Evaluate predictions\n",
    "print(accuracy_score(Y_validation, predictions))\n",
    "print(confusion_matrix(Y_validation, predictions))\n",
    "print(classification_report(Y_validation, predictions))\n",
    "print(cohen_kappa_score(Y_validation, predictions))\n",
    "print(matthews_corrcoef(Y_validation, predictions))"
   ]
  },
  {
   "cell_type": "code",
   "execution_count": 10,
   "metadata": {},
   "outputs": [
    {
     "name": "stdout",
     "output_type": "stream",
     "text": [
      "0.9978142076502732\n",
      "[[198   0   0   0   0   0   0]\n",
      " [  0 203   0   0   0   0   0]\n",
      " [  0   0 202   1   0   0   0]\n",
      " [  0   0   0 227   0   0   0]\n",
      " [  0   0   0   0 258   2   0]\n",
      " [  0   0   0   0   0 526   1]\n",
      " [  0   0   0   0   0   0 212]]\n",
      "              precision    recall  f1-score   support\n",
      "\n",
      "         1.0       1.00      1.00      1.00       198\n",
      "         2.0       1.00      1.00      1.00       203\n",
      "         3.0       1.00      1.00      1.00       203\n",
      "         4.0       1.00      1.00      1.00       227\n",
      "         5.0       1.00      0.99      1.00       260\n",
      "         6.0       1.00      1.00      1.00       527\n",
      "         7.0       1.00      1.00      1.00       212\n",
      "\n",
      "    accuracy                           1.00      1830\n",
      "   macro avg       1.00      1.00      1.00      1830\n",
      "weighted avg       1.00      1.00      1.00      1830\n",
      "\n",
      "0.9973718536294809\n",
      "0.9973732899246248\n"
     ]
    }
   ],
   "source": [
    "model=RandomForestClassifier(n_estimators=100)\n",
    "model.fit(X_train,Y_train)\n",
    "predictions = model.predict(X_validation)\n",
    "# Evaluate predictions\n",
    "print(accuracy_score(Y_validation, predictions))\n",
    "print(confusion_matrix(Y_validation, predictions))\n",
    "print(classification_report(Y_validation, predictions))\n",
    "print(cohen_kappa_score(Y_validation, predictions))\n",
    "print(matthews_corrcoef(Y_validation, predictions))"
   ]
  },
  {
   "cell_type": "code",
   "execution_count": 18,
   "metadata": {},
   "outputs": [
    {
     "name": "stdout",
     "output_type": "stream",
     "text": [
      "0.9983606557377049\n",
      "[[198   0   0   0   0   0   0]\n",
      " [  0 203   0   0   0   0   0]\n",
      " [  0   0 202   1   0   0   0]\n",
      " [  0   0   0 227   0   0   0]\n",
      " [  0   0   0   0 259   1   0]\n",
      " [  0   0   0   0   0 526   1]\n",
      " [  0   0   0   0   0   0 212]]\n",
      "              precision    recall  f1-score   support\n",
      "\n",
      "         1.0       1.00      1.00      1.00       198\n",
      "         2.0       1.00      1.00      1.00       203\n",
      "         3.0       1.00      1.00      1.00       203\n",
      "         4.0       1.00      1.00      1.00       227\n",
      "         5.0       1.00      1.00      1.00       260\n",
      "         6.0       1.00      1.00      1.00       527\n",
      "         7.0       1.00      1.00      1.00       212\n",
      "\n",
      "    accuracy                           1.00      1830\n",
      "   macro avg       1.00      1.00      1.00      1830\n",
      "weighted avg       1.00      1.00      1.00      1830\n",
      "\n",
      "0.9980290791599353\n",
      "0.9980297957803981\n"
     ]
    }
   ],
   "source": [
    "gb_clf = GradientBoostingClassifier(n_estimators=50, learning_rate=1, max_features=2, max_depth=2, random_state=0)\n",
    "gb_clf.fit(X_train, Y_train)\n",
    "predictions = model.predict(X_validation)\n",
    "# Evaluate predictions\n",
    "print(accuracy_score(Y_validation, predictions))\n",
    "print(confusion_matrix(Y_validation, predictions))\n",
    "print(classification_report(Y_validation, predictions))\n",
    "print(cohen_kappa_score(Y_validation, predictions))\n",
    "print(matthews_corrcoef(Y_validation, predictions))"
   ]
  },
  {
   "cell_type": "code",
   "execution_count": 19,
   "metadata": {},
   "outputs": [
    {
     "name": "stdout",
     "output_type": "stream",
     "text": [
      "0.9961748633879781\n",
      "[[198   0   0   0   0   0   0]\n",
      " [  0 203   0   0   0   0   0]\n",
      " [  0   2 200   1   0   0   0]\n",
      " [  0   0   0 227   0   0   0]\n",
      " [  0   0   0   0 258   2   0]\n",
      " [  0   0   0   0   0 526   1]\n",
      " [  0   0   0   0   0   1 211]]\n",
      "              precision    recall  f1-score   support\n",
      "\n",
      "         1.0       1.00      1.00      1.00       198\n",
      "         2.0       0.99      1.00      1.00       203\n",
      "         3.0       1.00      0.99      0.99       203\n",
      "         4.0       1.00      1.00      1.00       227\n",
      "         5.0       1.00      0.99      1.00       260\n",
      "         6.0       0.99      1.00      1.00       527\n",
      "         7.0       1.00      1.00      1.00       212\n",
      "\n",
      "    accuracy                           1.00      1830\n",
      "   macro avg       1.00      1.00      1.00      1830\n",
      "weighted avg       1.00      1.00      1.00      1830\n",
      "\n",
      "0.9954002236331555\n",
      "0.9954041761037798\n"
     ]
    }
   ],
   "source": [
    "model = ExtraTreesClassifier(n_estimators = 3, \n",
    "                                        criterion ='entropy', max_features = 174) \n",
    "  \n",
    "\n",
    "model.fit(X_train, Y_train)\n",
    "predictions = model.predict(X_validation)\n",
    "# Evaluate predictions\n",
    "print(accuracy_score(Y_validation, predictions))\n",
    "print(confusion_matrix(Y_validation, predictions))\n",
    "print(classification_report(Y_validation, predictions))\n",
    "print(cohen_kappa_score(Y_validation, predictions))\n",
    "print(matthews_corrcoef(Y_validation, predictions))"
   ]
  },
  {
   "cell_type": "code",
   "execution_count": 11,
   "metadata": {},
   "outputs": [
    {
     "name": "stderr",
     "output_type": "stream",
     "text": [
      "C:\\Users\\Dheeraj Kumar\\Anaconda3\\lib\\site-packages\\sklearn\\discriminant_analysis.py:715: UserWarning: Variables are collinear\n",
      "  warnings.warn(\"Variables are collinear\")\n"
     ]
    },
    {
     "name": "stdout",
     "output_type": "stream",
     "text": [
      "0.7038251366120218\n",
      "[[196   0   0   0   0   0   2]\n",
      " [  0 201   0   0   0   0   2]\n",
      " [  0   0 178   0   0   0  25]\n",
      " [  0   0   1 149   0   2  75]\n",
      " [  0   0   0   0 257   0   3]\n",
      " [  0   0   0   8 335  95  89]\n",
      " [  0   0   0   0   0   0 212]]\n",
      "              precision    recall  f1-score   support\n",
      "\n",
      "         1.0       1.00      0.99      0.99       198\n",
      "         2.0       1.00      0.99      1.00       203\n",
      "         3.0       0.99      0.88      0.93       203\n",
      "         4.0       0.95      0.66      0.78       227\n",
      "         5.0       0.43      0.99      0.60       260\n",
      "         6.0       0.98      0.18      0.30       527\n",
      "         7.0       0.52      1.00      0.68       212\n",
      "\n",
      "    accuracy                           0.70      1830\n",
      "   macro avg       0.84      0.81      0.76      1830\n",
      "weighted avg       0.85      0.70      0.67      1830\n",
      "\n",
      "0.6586594020603088\n",
      "0.6995765730877497\n"
     ]
    }
   ],
   "source": [
    "model = QuadraticDiscriminantAnalysis()\n",
    "\n",
    "model.fit(X_train, Y_train)\n",
    "predictions = model.predict(X_validation)\n",
    "# Evaluate predictions\n",
    "print(accuracy_score(Y_validation, predictions))\n",
    "print(confusion_matrix(Y_validation, predictions))\n",
    "print(classification_report(Y_validation, predictions))\n",
    "print(cohen_kappa_score(Y_validation, predictions))\n",
    "print(matthews_corrcoef(Y_validation, predictions))"
   ]
  },
  {
   "cell_type": "code",
   "execution_count": 21,
   "metadata": {},
   "outputs": [
    {
     "name": "stdout",
     "output_type": "stream",
     "text": [
      "0.9961748633879781\n",
      "[[198   0   0   0   0   0   0]\n",
      " [  0 203   0   0   0   0   0]\n",
      " [  0   0 201   2   0   0   0]\n",
      " [  0   0   0 227   0   0   0]\n",
      " [  0   0   0   0 258   2   0]\n",
      " [  0   0   0   0   0 525   2]\n",
      " [  0   0   1   0   0   0 211]]\n",
      "              precision    recall  f1-score   support\n",
      "\n",
      "         1.0       1.00      1.00      1.00       198\n",
      "         2.0       1.00      1.00      1.00       203\n",
      "         3.0       1.00      0.99      0.99       203\n",
      "         4.0       0.99      1.00      1.00       227\n",
      "         5.0       1.00      0.99      1.00       260\n",
      "         6.0       1.00      1.00      1.00       527\n",
      "         7.0       0.99      1.00      0.99       212\n",
      "\n",
      "    accuracy                           1.00      1830\n",
      "   macro avg       1.00      1.00      1.00      1830\n",
      "weighted avg       1.00      1.00      1.00      1830\n",
      "\n",
      "0.9954012391883349\n",
      "0.9954030260988705\n"
     ]
    }
   ],
   "source": [
    "model = LinearDiscriminantAnalysis()\n",
    "model.fit(X_train, Y_train)\n",
    "predictions = model.predict(X_validation)\n",
    "# Evaluate predictions\n",
    "print(accuracy_score(Y_validation, predictions))\n",
    "print(confusion_matrix(Y_validation, predictions))\n",
    "print(classification_report(Y_validation, predictions))\n",
    "print(cohen_kappa_score(Y_validation, predictions))\n",
    "print(matthews_corrcoef(Y_validation, predictions))"
   ]
  },
  {
   "cell_type": "code",
   "execution_count": 22,
   "metadata": {},
   "outputs": [
    {
     "name": "stdout",
     "output_type": "stream",
     "text": [
      "0.9972677595628415\n",
      "[[198   0   0   0   0   0   0]\n",
      " [  0 203   0   0   0   0   0]\n",
      " [  0   0 200   3   0   0   0]\n",
      " [  0   0   0 227   0   0   0]\n",
      " [  0   0   0   1 259   0   0]\n",
      " [  0   0   0   0   0 526   1]\n",
      " [  0   0   0   0   0   0 212]]\n",
      "              precision    recall  f1-score   support\n",
      "\n",
      "         1.0       1.00      1.00      1.00       198\n",
      "         2.0       1.00      1.00      1.00       203\n",
      "         3.0       1.00      0.99      0.99       203\n",
      "         4.0       0.98      1.00      0.99       227\n",
      "         5.0       1.00      1.00      1.00       260\n",
      "         6.0       1.00      1.00      1.00       527\n",
      "         7.0       1.00      1.00      1.00       212\n",
      "\n",
      "    accuracy                           1.00      1830\n",
      "   macro avg       1.00      1.00      1.00      1830\n",
      "weighted avg       1.00      1.00      1.00      1830\n",
      "\n",
      "0.9967154290834216\n",
      "0.9967204425829733\n"
     ]
    }
   ],
   "source": [
    "model = LGBMClassifier()\n",
    "model.fit(X_train, Y_train)\n",
    "predictions = model.predict(X_validation)\n",
    "# Evaluate predictions\n",
    "print(accuracy_score(Y_validation, predictions))\n",
    "print(confusion_matrix(Y_validation, predictions))\n",
    "print(classification_report(Y_validation, predictions))\n",
    "print(cohen_kappa_score(Y_validation, predictions))\n",
    "print(matthews_corrcoef(Y_validation, predictions))"
   ]
  },
  {
   "cell_type": "code",
   "execution_count": null,
   "metadata": {},
   "outputs": [],
   "source": []
  },
  {
   "cell_type": "code",
   "execution_count": 27,
   "metadata": {},
   "outputs": [
    {
     "name": "stdout",
     "output_type": "stream",
     "text": [
      "0.992896174863388\n",
      "[[198   0   0   0   0   0   0]\n",
      " [  0 203   0   0   0   0   0]\n",
      " [  0   0 201   1   1   0   0]\n",
      " [  5   0   0 222   0   0   0]\n",
      " [  0   0   0   0 258   1   1]\n",
      " [  0   0   0   0   0 525   2]\n",
      " [  1   0   1   0   0   0 210]]\n",
      "              precision    recall  f1-score   support\n",
      "\n",
      "         1.0       0.97      1.00      0.99       198\n",
      "         2.0       1.00      1.00      1.00       203\n",
      "         3.0       1.00      0.99      0.99       203\n",
      "         4.0       1.00      0.98      0.99       227\n",
      "         5.0       1.00      0.99      0.99       260\n",
      "         6.0       1.00      1.00      1.00       527\n",
      "         7.0       0.99      0.99      0.99       212\n",
      "\n",
      "    accuracy                           0.99      1830\n",
      "   macro avg       0.99      0.99      0.99      1830\n",
      "weighted avg       0.99      0.99      0.99      1830\n",
      "\n",
      "0.9914607961165467\n",
      "0.9914707748489294\n"
     ]
    }
   ],
   "source": [
    "model = RidgeClassifier()\n",
    "model.fit(X_train, Y_train)\n",
    "predictions = model.predict(X_validation)\n",
    "# Evaluate predictions\n",
    "print(accuracy_score(Y_validation, predictions))\n",
    "print(confusion_matrix(Y_validation, predictions))\n",
    "print(classification_report(Y_validation, predictions))\n",
    "print(cohen_kappa_score(Y_validation, predictions))\n",
    "print(matthews_corrcoef(Y_validation, predictions))"
   ]
  },
  {
   "cell_type": "code",
   "execution_count": 12,
   "metadata": {},
   "outputs": [
    {
     "name": "stdout",
     "output_type": "stream",
     "text": [
      "0.6196721311475409\n",
      "[[151   0   0   0  13  34   0]\n",
      " [  2 186  12   0   1   1   1]\n",
      " [  3  10 153  16   2  13   6]\n",
      " [ 12  55   2  25  34  79  20]\n",
      " [ 39   0   4   5 101  91  20]\n",
      " [  5   0   2   1  41 466  12]\n",
      " [  8   8  38  24  38  44  52]]\n",
      "              precision    recall  f1-score   support\n",
      "\n",
      "         1.0       0.69      0.76      0.72       198\n",
      "         2.0       0.72      0.92      0.81       203\n",
      "         3.0       0.73      0.75      0.74       203\n",
      "         4.0       0.35      0.11      0.17       227\n",
      "         5.0       0.44      0.39      0.41       260\n",
      "         6.0       0.64      0.88      0.74       527\n",
      "         7.0       0.47      0.25      0.32       212\n",
      "\n",
      "    accuracy                           0.62      1830\n",
      "   macro avg       0.58      0.58      0.56      1830\n",
      "weighted avg       0.58      0.62      0.58      1830\n",
      "\n",
      "0.5329073189515279\n",
      "0.5411559103276172\n"
     ]
    },
    {
     "name": "stderr",
     "output_type": "stream",
     "text": [
      "C:\\Users\\Dheeraj Kumar\\Anaconda3\\lib\\site-packages\\sklearn\\linear_model\\_logistic.py:764: ConvergenceWarning: lbfgs failed to converge (status=1):\n",
      "STOP: TOTAL NO. of ITERATIONS REACHED LIMIT.\n",
      "\n",
      "Increase the number of iterations (max_iter) or scale the data as shown in:\n",
      "    https://scikit-learn.org/stable/modules/preprocessing.html\n",
      "Please also refer to the documentation for alternative solver options:\n",
      "    https://scikit-learn.org/stable/modules/linear_model.html#logistic-regression\n",
      "  extra_warning_msg=_LOGISTIC_SOLVER_CONVERGENCE_MSG)\n"
     ]
    }
   ],
   "source": [
    "model= LogisticRegression(random_state = 0)\n",
    "model.fit(X_train,Y_train)\n",
    "predictions = model.predict(X_validation)\n",
    "# Evaluate predictions\n",
    "print(accuracy_score(Y_validation, predictions))\n",
    "print(confusion_matrix(Y_validation, predictions))\n",
    "print(classification_report(Y_validation, predictions))\n",
    "print(cohen_kappa_score(Y_validation, predictions))\n",
    "print(matthews_corrcoef(Y_validation, predictions))"
   ]
  },
  {
   "cell_type": "code",
   "execution_count": 5,
   "metadata": {},
   "outputs": [
    {
     "name": "stdout",
     "output_type": "stream",
     "text": [
      "0.9972677595628415\n",
      "[[198   0   0   0   0   0   0]\n",
      " [  0 203   0   0   0   0   0]\n",
      " [  0   0 199   4   0   0   0]\n",
      " [  0   0   0 227   0   0   0]\n",
      " [  0   0   0   0 260   0   0]\n",
      " [  0   0   0   0   0 526   1]\n",
      " [  0   0   0   0   0   0 212]]\n",
      "              precision    recall  f1-score   support\n",
      "\n",
      "         1.0       1.00      1.00      1.00       198\n",
      "         2.0       1.00      1.00      1.00       203\n",
      "         3.0       1.00      0.98      0.99       203\n",
      "         4.0       0.98      1.00      0.99       227\n",
      "         5.0       1.00      1.00      1.00       260\n",
      "         6.0       1.00      1.00      1.00       527\n",
      "         7.0       1.00      1.00      1.00       212\n",
      "\n",
      "    accuracy                           1.00      1830\n",
      "   macro avg       1.00      1.00      1.00      1830\n",
      "weighted avg       1.00      1.00      1.00      1830\n",
      "\n",
      "0.9967153618755822\n",
      "0.9967214470947032\n"
     ]
    }
   ],
   "source": [
    "model = XGBClassifier()\n",
    "model.fit(X_train, Y_train)\n",
    "predictions = model.predict(X_validation)\n",
    "# Evaluate predictions\n",
    "print(accuracy_score(Y_validation, predictions))\n",
    "print(confusion_matrix(Y_validation, predictions))\n",
    "print(classification_report(Y_validation, predictions)) \n",
    "print(cohen_kappa_score(Y_validation, predictions))\n",
    "print(matthews_corrcoef(Y_validation, predictions))"
   ]
  },
  {
   "cell_type": "code",
   "execution_count": null,
   "metadata": {},
   "outputs": [],
   "source": []
  },
  {
   "cell_type": "code",
   "execution_count": 11,
   "metadata": {},
   "outputs": [
    {
     "name": "stdout",
     "output_type": "stream",
     "text": [
      "0.9978142076502732\n",
      "[[198   0   0   0   0   0   0]\n",
      " [  0 203   0   0   0   0   0]\n",
      " [  0   0 202   1   0   0   0]\n",
      " [  0   0   0 226   0   1   0]\n",
      " [  0   0   0   0 259   1   0]\n",
      " [  0   0   0   1   0 526   0]\n",
      " [  0   0   0   0   0   0 212]]\n",
      "              precision    recall  f1-score   support\n",
      "\n",
      "         1.0       1.00      1.00      1.00       198\n",
      "         2.0       1.00      1.00      1.00       203\n",
      "         3.0       1.00      1.00      1.00       203\n",
      "         4.0       0.99      1.00      0.99       227\n",
      "         5.0       1.00      1.00      1.00       260\n",
      "         6.0       1.00      1.00      1.00       527\n",
      "         7.0       1.00      1.00      1.00       212\n",
      "\n",
      "    accuracy                           1.00      1830\n",
      "   macro avg       1.00      1.00      1.00      1830\n",
      "weighted avg       1.00      1.00      1.00      1830\n",
      "\n",
      "0.9973718083358916\n",
      "0.9973725300532282\n"
     ]
    }
   ],
   "source": [
    "seed = 8\n",
    "num_trees = 500\n",
    "base_cls = DecisionTreeClassifier()\n",
    "model = BaggingClassifier(base_estimator = base_cls, \n",
    "                          n_estimators = num_trees, \n",
    "                          random_state = seed)\n",
    "model.fit(X_train, Y_train)\n",
    "predictions = model.predict(X_validation)\n",
    "# Evaluate predictions\n",
    "print(accuracy_score(Y_validation, predictions))\n",
    "print(confusion_matrix(Y_validation, predictions))\n",
    "print(classification_report(Y_validation, predictions)) \n",
    "print(cohen_kappa_score(Y_validation, predictions))\n",
    "print(matthews_corrcoef(Y_validation, predictions))"
   ]
  },
  {
   "cell_type": "code",
   "execution_count": null,
   "metadata": {},
   "outputs": [],
   "source": []
  },
  {
   "cell_type": "code",
   "execution_count": null,
   "metadata": {},
   "outputs": [],
   "source": []
  },
  {
   "cell_type": "code",
   "execution_count": null,
   "metadata": {},
   "outputs": [],
   "source": []
  },
  {
   "cell_type": "code",
   "execution_count": 7,
   "metadata": {},
   "outputs": [
    {
     "name": "stdout",
     "output_type": "stream",
     "text": [
      "0.6770491803278689\n",
      "[[142   0   0   0  19  36   1]\n",
      " [  0 195   5   1   0   0   2]\n",
      " [  0   0 161  27   0   3  12]\n",
      " [  7   4   8  44  38  68  58]\n",
      " [ 20   0   0   0 119  80  41]\n",
      " [  4   0   0   0  52 460  11]\n",
      " [  4   0   2   0  55  33 118]]\n",
      "              precision    recall  f1-score   support\n",
      "\n",
      "         1.0       0.80      0.72      0.76       198\n",
      "         2.0       0.98      0.96      0.97       203\n",
      "         3.0       0.91      0.79      0.85       203\n",
      "         4.0       0.61      0.19      0.29       227\n",
      "         5.0       0.42      0.46      0.44       260\n",
      "         6.0       0.68      0.87      0.76       527\n",
      "         7.0       0.49      0.56      0.52       212\n",
      "\n",
      "    accuracy                           0.68      1830\n",
      "   macro avg       0.70      0.65      0.66      1830\n",
      "weighted avg       0.68      0.68      0.66      1830\n",
      "\n",
      "0.6049824520650462\n",
      "0.6107885881232517\n"
     ]
    }
   ],
   "source": [
    "model = BaggingClassifier(base_estimator=SVC(),\n",
    "                        n_estimators=10, random_state=0)\n",
    "model.fit(X_train, Y_train)\n",
    "predictions = model.predict(X_validation)\n",
    "# Evaluate predictions\n",
    "print(accuracy_score(Y_validation, predictions))\n",
    "print(confusion_matrix(Y_validation, predictions))\n",
    "print(classification_report(Y_validation, predictions)) \n",
    "print(cohen_kappa_score(Y_validation, predictions))\n",
    "print(matthews_corrcoef(Y_validation, predictions))"
   ]
  },
  {
   "cell_type": "code",
   "execution_count": null,
   "metadata": {},
   "outputs": [],
   "source": []
  },
  {
   "cell_type": "code",
   "execution_count": 9,
   "metadata": {},
   "outputs": [
    {
     "name": "stdout",
     "output_type": "stream",
     "text": [
      "0.6743169398907104\n",
      "[[144   0   0   0  16  37   1]\n",
      " [  0 195   4   1   0   0   3]\n",
      " [  0   0 159  27   0   3  14]\n",
      " [  7   4   8  44  37  69  58]\n",
      " [ 22   0   0   0 115  80  43]\n",
      " [  4   0   0   0  50 462  11]\n",
      " [  4   0   2   0  57  34 115]]\n",
      "              precision    recall  f1-score   support\n",
      "\n",
      "         1.0       0.80      0.73      0.76       198\n",
      "         2.0       0.98      0.96      0.97       203\n",
      "         3.0       0.92      0.78      0.85       203\n",
      "         4.0       0.61      0.19      0.29       227\n",
      "         5.0       0.42      0.44      0.43       260\n",
      "         6.0       0.67      0.88      0.76       527\n",
      "         7.0       0.47      0.54      0.50       212\n",
      "\n",
      "    accuracy                           0.67      1830\n",
      "   macro avg       0.70      0.65      0.65      1830\n",
      "weighted avg       0.68      0.67      0.66      1830\n",
      "\n",
      "0.6014713711470505\n",
      "0.6074143793120087\n"
     ]
    }
   ],
   "source": [
    "model = SVC(kernel = 'rbf', random_state = 0) \n",
    "model.fit(X_train, Y_train)\n",
    "predictions = model.predict(X_validation)\n",
    "# Evaluate predictions\n",
    "print(accuracy_score(Y_validation, predictions))\n",
    "print(confusion_matrix(Y_validation, predictions))\n",
    "print(classification_report(Y_validation, predictions)) \n",
    "print(cohen_kappa_score(Y_validation, predictions))\n",
    "print(matthews_corrcoef(Y_validation, predictions))"
   ]
  },
  {
   "cell_type": "code",
   "execution_count": null,
   "metadata": {},
   "outputs": [],
   "source": []
  },
  {
   "cell_type": "code",
   "execution_count": null,
   "metadata": {},
   "outputs": [],
   "source": []
  },
  {
   "cell_type": "code",
   "execution_count": null,
   "metadata": {},
   "outputs": [],
   "source": []
  },
  {
   "cell_type": "code",
   "execution_count": 13,
   "metadata": {},
   "outputs": [
    {
     "name": "stdout",
     "output_type": "stream",
     "text": [
      "0.11584699453551912\n",
      "[[  0   0   0   0   0   0 198]\n",
      " [  0   0   0   0   0   0 203]\n",
      " [  0   0   0   0   0   0 203]\n",
      " [  0   0   0   0   0   0 227]\n",
      " [  0   0   0   0   0   0 260]\n",
      " [  0   0   0   0   0   0 527]\n",
      " [  0   0   0   0   0   0 212]]\n",
      "              precision    recall  f1-score   support\n",
      "\n",
      "         1.0       0.00      0.00      0.00       198\n",
      "         2.0       0.00      0.00      0.00       203\n",
      "         3.0       0.00      0.00      0.00       203\n",
      "         4.0       0.00      0.00      0.00       227\n",
      "         5.0       0.00      0.00      0.00       260\n",
      "         6.0       0.00      0.00      0.00       527\n",
      "         7.0       0.12      1.00      0.21       212\n",
      "\n",
      "    accuracy                           0.12      1830\n",
      "   macro avg       0.02      0.14      0.03      1830\n",
      "weighted avg       0.01      0.12      0.02      1830\n",
      "\n",
      "0.0\n",
      "0.0\n"
     ]
    },
    {
     "name": "stderr",
     "output_type": "stream",
     "text": [
      "C:\\Users\\Dheeraj Kumar\\Anaconda3\\lib\\site-packages\\sklearn\\metrics\\_classification.py:1221: UndefinedMetricWarning: Precision and F-score are ill-defined and being set to 0.0 in labels with no predicted samples. Use `zero_division` parameter to control this behavior.\n",
      "  _warn_prf(average, modifier, msg_start, len(result))\n",
      "C:\\Users\\Dheeraj Kumar\\Anaconda3\\lib\\site-packages\\sklearn\\metrics\\_classification.py:846: RuntimeWarning: invalid value encountered in double_scalars\n",
      "  mcc = cov_ytyp / np.sqrt(cov_ytyt * cov_ypyp)\n"
     ]
    }
   ],
   "source": [
    "model = GaussianProcessClassifier()\n",
    "model.fit(X_train, Y_train)\n",
    "predictions = model.predict(X_validation)\n",
    "# Evaluate predictions\n",
    "print(accuracy_score(Y_validation, predictions))\n",
    "print(confusion_matrix(Y_validation, predictions))\n",
    "print(classification_report(Y_validation, predictions)) \n",
    "print(cohen_kappa_score(Y_validation, predictions))\n",
    "print(matthews_corrcoef(Y_validation, predictions))"
   ]
  },
  {
   "cell_type": "code",
   "execution_count": 19,
   "metadata": {},
   "outputs": [
    {
     "name": "stdout",
     "output_type": "stream",
     "text": [
      "0.6879781420765028\n",
      "[[155   0   0   4  19  19   1]\n",
      " [  0 199   0   3   0   0   1]\n",
      " [  0   0 177  17   2   1   6]\n",
      " [ 10   0  15  74  33  60  35]\n",
      " [ 21   0   0   9 123  66  41]\n",
      " [ 10   0   0  25  57 420  15]\n",
      " [  9   0   5  22  38  27 111]]\n",
      "              precision    recall  f1-score   support\n",
      "\n",
      "         1.0       0.76      0.78      0.77       198\n",
      "         2.0       1.00      0.98      0.99       203\n",
      "         3.0       0.90      0.87      0.89       203\n",
      "         4.0       0.48      0.33      0.39       227\n",
      "         5.0       0.45      0.47      0.46       260\n",
      "         6.0       0.71      0.80      0.75       527\n",
      "         7.0       0.53      0.52      0.53       212\n",
      "\n",
      "    accuracy                           0.69      1830\n",
      "   macro avg       0.69      0.68      0.68      1830\n",
      "weighted avg       0.68      0.69      0.68      1830\n",
      "\n",
      "0.6221159093350133\n",
      "0.6232614296259951\n"
     ]
    }
   ],
   "source": [
    "model = BaggingClassifier(base_estimator=KNeighborsClassifier(),\n",
    "                        n_estimators=10, random_state=0)\n",
    "model.fit(X_train, Y_train)\n",
    "predictions = model.predict(X_validation)\n",
    "# Evaluate predictions\n",
    "print(accuracy_score(Y_validation, predictions))\n",
    "print(confusion_matrix(Y_validation, predictions))\n",
    "print(classification_report(Y_validation, predictions)) \n",
    "print(cohen_kappa_score(Y_validation, predictions))\n",
    "print(matthews_corrcoef(Y_validation, predictions))"
   ]
  },
  {
   "cell_type": "code",
   "execution_count": null,
   "metadata": {},
   "outputs": [],
   "source": []
  }
 ],
 "metadata": {
  "kernelspec": {
   "display_name": "Python 3",
   "language": "python",
   "name": "python3"
  },
  "language_info": {
   "codemirror_mode": {
    "name": "ipython",
    "version": 3
   },
   "file_extension": ".py",
   "mimetype": "text/x-python",
   "name": "python",
   "nbconvert_exporter": "python",
   "pygments_lexer": "ipython3",
   "version": "3.7.4"
  }
 },
 "nbformat": 4,
 "nbformat_minor": 4
}
